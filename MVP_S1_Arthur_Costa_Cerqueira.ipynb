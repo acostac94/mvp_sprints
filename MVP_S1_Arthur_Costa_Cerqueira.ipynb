{
  "nbformat": 4,
  "nbformat_minor": 0,
  "metadata": {
    "colab": {
      "provenance": [],
      "toc_visible": true,
      "collapsed_sections": [
        "PJJKyh6_ck44",
        "jeNumfohx-5V",
        "eXTxuhyF2O4k",
        "kMwBAIMp2UP_",
        "aNPgONvpiPPO",
        "2JduH4Elh7qw",
        "U5RkdHCZZNNA",
        "Nt9srNTRILCy",
        "74XokdgZqzxo"
      ],
      "authorship_tag": "ABX9TyNdr1ICK3r2yJ3i29cqi1OC",
      "include_colab_link": true
    },
    "kernelspec": {
      "name": "python3",
      "display_name": "Python 3"
    },
    "language_info": {
      "name": "python"
    }
  },
  "cells": [
    {
      "cell_type": "markdown",
      "metadata": {
        "id": "view-in-github",
        "colab_type": "text"
      },
      "source": [
        "<a href=\"https://colab.research.google.com/github/acostac94/mvp_sprints/blob/main/MVP_S1_Arthur_Costa_Cerqueira.ipynb\" target=\"_parent\"><img src=\"https://colab.research.google.com/assets/colab-badge.svg\" alt=\"Open In Colab\"/></a>"
      ]
    },
    {
      "cell_type": "markdown",
      "source": [
        "\n",
        "---\n",
        "\n",
        "# **MVP - TREINAMENTO DE MODELOS DE MACHINE LEARNING PARA PROBLEMAS DE CLASSIFICAÇÃO**\n",
        "\n",
        "---\n",
        "*Arthur Costa Cerqueira*\n",
        "\n",
        "Matrícula: 4052024000086\n",
        "\n",
        "e-mail: arthurcosta.c@gmail.com\n"
      ],
      "metadata": {
        "id": "u0n6Hc7WxvJT"
      }
    },
    {
      "cell_type": "markdown",
      "source": [
        "#**1. TESTANDO MODELOS DE MACHINE LEARNING PARA PROBLEMAS DE CLASSIFICAÇÃO**"
      ],
      "metadata": {
        "id": "fSXojki5-NA7"
      }
    },
    {
      "cell_type": "markdown",
      "source": [
        "## **1.1. DEFINIÇÃO DO PROBLEMA**"
      ],
      "metadata": {
        "id": "PJJKyh6_ck44"
      }
    },
    {
      "cell_type": "markdown",
      "source": [
        "---\n",
        ">Este projeto aborda um conjunto de dados relacionado ao câncer de mama. A\n",
        "problemática abordada é a análise e a classificação de amostras de tecido mamário em benigno ou maligno, com base em características observadas nos exames clínicos. Este tipo de análise é fundamental para a detecção precoce e o tratamento eficaz do câncer de mama, uma vez que tumores malignos precisam ser identificados o mais cedo possível para aumentar as chances de sucesso no tratamento.\n",
        "\n",
        "---\n",
        "\n"
      ],
      "metadata": {
        "id": "vVb8sjQqdE1V"
      }
    },
    {
      "cell_type": "markdown",
      "source": [
        "## **1.2. PREPARAÇÃO DOS DADOS**"
      ],
      "metadata": {
        "id": "jeNumfohx-5V"
      }
    },
    {
      "cell_type": "code",
      "source": [
        "# Instalando biblioteca Scikit-learn\n",
        "!pip install -U scikit-learn\n",
        "# Instalando o repositório do pacote de Dataset\n",
        "!pip install ucimlrepo\n",
        "# Instalando o repositório do pacote do Pandas\n",
        "!pip install pandas"
      ],
      "metadata": {
        "id": "GDYVmu2Xlr_w",
        "colab": {
          "base_uri": "https://localhost:8080/"
        },
        "outputId": "86f07873-9f0a-4b13-eb72-d85e32a79aec"
      },
      "execution_count": 1,
      "outputs": [
        {
          "output_type": "stream",
          "name": "stdout",
          "text": [
            "Requirement already satisfied: scikit-learn in /usr/local/lib/python3.10/dist-packages (1.2.2)\n",
            "Collecting scikit-learn\n",
            "  Downloading scikit_learn-1.4.2-cp310-cp310-manylinux_2_17_x86_64.manylinux2014_x86_64.whl (12.1 MB)\n",
            "\u001b[2K     \u001b[90m━━━━━━━━━━━━━━━━━━━━━━━━━━━━━━━━━━━━━━━━\u001b[0m \u001b[32m12.1/12.1 MB\u001b[0m \u001b[31m18.1 MB/s\u001b[0m eta \u001b[36m0:00:00\u001b[0m\n",
            "\u001b[?25hRequirement already satisfied: numpy>=1.19.5 in /usr/local/lib/python3.10/dist-packages (from scikit-learn) (1.25.2)\n",
            "Requirement already satisfied: scipy>=1.6.0 in /usr/local/lib/python3.10/dist-packages (from scikit-learn) (1.11.4)\n",
            "Requirement already satisfied: joblib>=1.2.0 in /usr/local/lib/python3.10/dist-packages (from scikit-learn) (1.4.0)\n",
            "Requirement already satisfied: threadpoolctl>=2.0.0 in /usr/local/lib/python3.10/dist-packages (from scikit-learn) (3.4.0)\n",
            "Installing collected packages: scikit-learn\n",
            "  Attempting uninstall: scikit-learn\n",
            "    Found existing installation: scikit-learn 1.2.2\n",
            "    Uninstalling scikit-learn-1.2.2:\n",
            "      Successfully uninstalled scikit-learn-1.2.2\n",
            "Successfully installed scikit-learn-1.4.2\n",
            "Collecting ucimlrepo\n",
            "  Downloading ucimlrepo-0.0.6-py3-none-any.whl (8.0 kB)\n",
            "Installing collected packages: ucimlrepo\n",
            "Successfully installed ucimlrepo-0.0.6\n",
            "Requirement already satisfied: pandas in /usr/local/lib/python3.10/dist-packages (2.0.3)\n",
            "Requirement already satisfied: python-dateutil>=2.8.2 in /usr/local/lib/python3.10/dist-packages (from pandas) (2.8.2)\n",
            "Requirement already satisfied: pytz>=2020.1 in /usr/local/lib/python3.10/dist-packages (from pandas) (2023.4)\n",
            "Requirement already satisfied: tzdata>=2022.1 in /usr/local/lib/python3.10/dist-packages (from pandas) (2024.1)\n",
            "Requirement already satisfied: numpy>=1.21.0 in /usr/local/lib/python3.10/dist-packages (from pandas) (1.25.2)\n",
            "Requirement already satisfied: six>=1.5 in /usr/local/lib/python3.10/dist-packages (from python-dateutil>=2.8.2->pandas) (1.16.0)\n"
          ]
        }
      ]
    },
    {
      "cell_type": "markdown",
      "source": [
        ">Inicialmente, instala-se as bibliotecas scikit-learn, ucimlrepo (repositório de conjuntos de dados para machine learning) e Pandas. Essas bibliotecas são essenciais para análise de dados e construção de modelos de machine learning em Python.\n",
        "---"
      ],
      "metadata": {
        "id": "ItSjCoYgZ-7m"
      }
    },
    {
      "cell_type": "code",
      "source": [
        "# Iniciando com os imports dos pacotes necessários para o notebook\n",
        "# Configuração para não exibir os warnings\n",
        "import warnings\n",
        "warnings.filterwarnings(\"ignore\")\n",
        "\n",
        "# Imports necessários das aplicações matemáticas e estatísticas\n",
        "import pandas as pd\n",
        "import numpy as np\n",
        "import matplotlib.pyplot as plt\n",
        "\n",
        "# Importar o repositório da UCI\n",
        "from ucimlrepo import fetch_ucirepo\n",
        "\n",
        "# Importar o dataset Breast Cancer\n",
        "from sklearn.datasets import load_breast_cancer\n",
        "\n",
        "# Imports para preparo dos dados e modelagem\n",
        "from sklearn.model_selection import train_test_split\n",
        "from sklearn.model_selection import KFold\n",
        "from sklearn.model_selection import cross_val_score\n",
        "from sklearn.metrics import accuracy_score\n",
        "from sklearn.preprocessing import KBinsDiscretizer\n",
        "from sklearn.preprocessing import LabelEncoder\n",
        "\n",
        "# Imports dos modelos de classificação\n",
        "from sklearn.neighbors import KNeighborsClassifier\n",
        "from sklearn.tree import DecisionTreeClassifier\n",
        "from sklearn.naive_bayes import GaussianNB\n",
        "from sklearn.svm import SVC\n",
        "\n",
        "# Imports das técnicas avançadas de machine learning\n",
        "from sklearn.preprocessing import StandardScaler\n",
        "from sklearn.preprocessing import MinMaxScaler\n",
        "from sklearn.model_selection import StratifiedKFold\n",
        "from sklearn.model_selection import GridSearchCV\n",
        "from sklearn.pipeline import Pipeline\n",
        "from sklearn.linear_model import LogisticRegression\n",
        "from sklearn.ensemble import BaggingClassifier\n",
        "from sklearn.ensemble import RandomForestClassifier\n",
        "from sklearn.ensemble import ExtraTreesClassifier\n",
        "from sklearn.ensemble import VotingClassifier\n",
        "from sklearn.ensemble import AdaBoostClassifier\n",
        "from sklearn.ensemble import GradientBoostingClassifier\n",
        "\n",
        "# Imports para o Feature Selection\n",
        "from sklearn.feature_selection import SelectKBest\n",
        "from sklearn.feature_selection import f_classif\n",
        "from sklearn.feature_selection import RFE"
      ],
      "metadata": {
        "id": "v2ERRNjoz-YJ"
      },
      "execution_count": 2,
      "outputs": []
    },
    {
      "cell_type": "markdown",
      "source": [
        ">A primeira etapa para a análise de dados usando Python se caracteriza pela\n",
        "importação de pacotes e bibliotecas, como o Pandas para manipulação de dados, NumPy para operações matemáticas, e Matplotlib para visualização de dados.\n",
        "\n",
        ">A biblioteca de dataset é importada através do pacote ucimlrepo, que é usada para baixar conjuntos de dados do repositório da UCI. Importa-se também os algoritmos de classificação, de pré-processamento, de modelagem de dados, das métricas de acurácia, dos ensembles, e do pipeline, todos da biblioteca do SKLearn.\n",
        "---"
      ],
      "metadata": {
        "id": "NNDalSBOYub7"
      }
    },
    {
      "cell_type": "code",
      "execution_count": 3,
      "metadata": {
        "id": "VDxQAZbnxfBA",
        "colab": {
          "base_uri": "https://localhost:8080/"
        },
        "outputId": "aaf147ea-3672-41e8-8066-baf812cf2f0e"
      },
      "outputs": [
        {
          "output_type": "stream",
          "name": "stdout",
          "text": [
            "<class 'pandas.core.frame.DataFrame'>\n",
            "RangeIndex: 569 entries, 0 to 568\n",
            "Data columns (total 30 columns):\n",
            " #   Column                   Non-Null Count  Dtype  \n",
            "---  ------                   --------------  -----  \n",
            " 0   mean radius              569 non-null    float64\n",
            " 1   mean texture             569 non-null    float64\n",
            " 2   mean perimeter           569 non-null    float64\n",
            " 3   mean area                569 non-null    float64\n",
            " 4   mean smoothness          569 non-null    float64\n",
            " 5   mean compactness         569 non-null    float64\n",
            " 6   mean concavity           569 non-null    float64\n",
            " 7   mean concave points      569 non-null    float64\n",
            " 8   mean symmetry            569 non-null    float64\n",
            " 9   mean fractal dimension   569 non-null    float64\n",
            " 10  radius error             569 non-null    float64\n",
            " 11  texture error            569 non-null    float64\n",
            " 12  perimeter error          569 non-null    float64\n",
            " 13  area error               569 non-null    float64\n",
            " 14  smoothness error         569 non-null    float64\n",
            " 15  compactness error        569 non-null    float64\n",
            " 16  concavity error          569 non-null    float64\n",
            " 17  concave points error     569 non-null    float64\n",
            " 18  symmetry error           569 non-null    float64\n",
            " 19  fractal dimension error  569 non-null    float64\n",
            " 20  worst radius             569 non-null    float64\n",
            " 21  worst texture            569 non-null    float64\n",
            " 22  worst perimeter          569 non-null    float64\n",
            " 23  worst area               569 non-null    float64\n",
            " 24  worst smoothness         569 non-null    float64\n",
            " 25  worst compactness        569 non-null    float64\n",
            " 26  worst concavity          569 non-null    float64\n",
            " 27  worst concave points     569 non-null    float64\n",
            " 28  worst symmetry           569 non-null    float64\n",
            " 29  worst fractal dimension  569 non-null    float64\n",
            "dtypes: float64(30)\n",
            "memory usage: 133.5 KB\n"
          ]
        }
      ],
      "source": [
        "# Iniciando a manipulação do dataset\n",
        "# Busca do dataset no repositório da UCI\n",
        "breast_cancer = fetch_ucirepo(id=14)\n",
        "\n",
        "# Separação dos dados em X e Y (conforme dataframe do Pandas)\n",
        "X = breast_cancer.data.features\n",
        "y = breast_cancer.data.targets\n",
        "\n",
        "# Carregar o dataset no notebook\n",
        "breast_cancer = load_breast_cancer()\n",
        "\n",
        "# Conversão para dataframe do Pandas\n",
        "dataset = pd.DataFrame(breast_cancer.data, columns=breast_cancer.feature_names)\n",
        "\n",
        "# Informações sobre o conjunto de dados\n",
        "dataset.info()"
      ]
    },
    {
      "cell_type": "code",
      "source": [
        "# Adição da coluna target (coluna que testaremos a classificação do tecido como malígno ou benígno)\n",
        "dataset['target'] = breast_cancer.target\n",
        "\n",
        "dataset.head()"
      ],
      "metadata": {
        "colab": {
          "base_uri": "https://localhost:8080/",
          "height": 0
        },
        "id": "FSEJqChA1N39",
        "outputId": "30707660-9f1e-40f8-a8d7-99144f98f003"
      },
      "execution_count": 4,
      "outputs": [
        {
          "output_type": "execute_result",
          "data": {
            "text/plain": [
              "   mean radius  mean texture  mean perimeter  mean area  mean smoothness  \\\n",
              "0        17.99         10.38          122.80     1001.0          0.11840   \n",
              "1        20.57         17.77          132.90     1326.0          0.08474   \n",
              "2        19.69         21.25          130.00     1203.0          0.10960   \n",
              "3        11.42         20.38           77.58      386.1          0.14250   \n",
              "4        20.29         14.34          135.10     1297.0          0.10030   \n",
              "\n",
              "   mean compactness  mean concavity  mean concave points  mean symmetry  \\\n",
              "0           0.27760          0.3001              0.14710         0.2419   \n",
              "1           0.07864          0.0869              0.07017         0.1812   \n",
              "2           0.15990          0.1974              0.12790         0.2069   \n",
              "3           0.28390          0.2414              0.10520         0.2597   \n",
              "4           0.13280          0.1980              0.10430         0.1809   \n",
              "\n",
              "   mean fractal dimension  ...  worst texture  worst perimeter  worst area  \\\n",
              "0                 0.07871  ...          17.33           184.60      2019.0   \n",
              "1                 0.05667  ...          23.41           158.80      1956.0   \n",
              "2                 0.05999  ...          25.53           152.50      1709.0   \n",
              "3                 0.09744  ...          26.50            98.87       567.7   \n",
              "4                 0.05883  ...          16.67           152.20      1575.0   \n",
              "\n",
              "   worst smoothness  worst compactness  worst concavity  worst concave points  \\\n",
              "0            0.1622             0.6656           0.7119                0.2654   \n",
              "1            0.1238             0.1866           0.2416                0.1860   \n",
              "2            0.1444             0.4245           0.4504                0.2430   \n",
              "3            0.2098             0.8663           0.6869                0.2575   \n",
              "4            0.1374             0.2050           0.4000                0.1625   \n",
              "\n",
              "   worst symmetry  worst fractal dimension  target  \n",
              "0          0.4601                  0.11890       0  \n",
              "1          0.2750                  0.08902       0  \n",
              "2          0.3613                  0.08758       0  \n",
              "3          0.6638                  0.17300       0  \n",
              "4          0.2364                  0.07678       0  \n",
              "\n",
              "[5 rows x 31 columns]"
            ],
            "text/html": [
              "\n",
              "  <div id=\"df-0f321fe8-ef63-4177-a7a0-ea1a2fc7e66a\" class=\"colab-df-container\">\n",
              "    <div>\n",
              "<style scoped>\n",
              "    .dataframe tbody tr th:only-of-type {\n",
              "        vertical-align: middle;\n",
              "    }\n",
              "\n",
              "    .dataframe tbody tr th {\n",
              "        vertical-align: top;\n",
              "    }\n",
              "\n",
              "    .dataframe thead th {\n",
              "        text-align: right;\n",
              "    }\n",
              "</style>\n",
              "<table border=\"1\" class=\"dataframe\">\n",
              "  <thead>\n",
              "    <tr style=\"text-align: right;\">\n",
              "      <th></th>\n",
              "      <th>mean radius</th>\n",
              "      <th>mean texture</th>\n",
              "      <th>mean perimeter</th>\n",
              "      <th>mean area</th>\n",
              "      <th>mean smoothness</th>\n",
              "      <th>mean compactness</th>\n",
              "      <th>mean concavity</th>\n",
              "      <th>mean concave points</th>\n",
              "      <th>mean symmetry</th>\n",
              "      <th>mean fractal dimension</th>\n",
              "      <th>...</th>\n",
              "      <th>worst texture</th>\n",
              "      <th>worst perimeter</th>\n",
              "      <th>worst area</th>\n",
              "      <th>worst smoothness</th>\n",
              "      <th>worst compactness</th>\n",
              "      <th>worst concavity</th>\n",
              "      <th>worst concave points</th>\n",
              "      <th>worst symmetry</th>\n",
              "      <th>worst fractal dimension</th>\n",
              "      <th>target</th>\n",
              "    </tr>\n",
              "  </thead>\n",
              "  <tbody>\n",
              "    <tr>\n",
              "      <th>0</th>\n",
              "      <td>17.99</td>\n",
              "      <td>10.38</td>\n",
              "      <td>122.80</td>\n",
              "      <td>1001.0</td>\n",
              "      <td>0.11840</td>\n",
              "      <td>0.27760</td>\n",
              "      <td>0.3001</td>\n",
              "      <td>0.14710</td>\n",
              "      <td>0.2419</td>\n",
              "      <td>0.07871</td>\n",
              "      <td>...</td>\n",
              "      <td>17.33</td>\n",
              "      <td>184.60</td>\n",
              "      <td>2019.0</td>\n",
              "      <td>0.1622</td>\n",
              "      <td>0.6656</td>\n",
              "      <td>0.7119</td>\n",
              "      <td>0.2654</td>\n",
              "      <td>0.4601</td>\n",
              "      <td>0.11890</td>\n",
              "      <td>0</td>\n",
              "    </tr>\n",
              "    <tr>\n",
              "      <th>1</th>\n",
              "      <td>20.57</td>\n",
              "      <td>17.77</td>\n",
              "      <td>132.90</td>\n",
              "      <td>1326.0</td>\n",
              "      <td>0.08474</td>\n",
              "      <td>0.07864</td>\n",
              "      <td>0.0869</td>\n",
              "      <td>0.07017</td>\n",
              "      <td>0.1812</td>\n",
              "      <td>0.05667</td>\n",
              "      <td>...</td>\n",
              "      <td>23.41</td>\n",
              "      <td>158.80</td>\n",
              "      <td>1956.0</td>\n",
              "      <td>0.1238</td>\n",
              "      <td>0.1866</td>\n",
              "      <td>0.2416</td>\n",
              "      <td>0.1860</td>\n",
              "      <td>0.2750</td>\n",
              "      <td>0.08902</td>\n",
              "      <td>0</td>\n",
              "    </tr>\n",
              "    <tr>\n",
              "      <th>2</th>\n",
              "      <td>19.69</td>\n",
              "      <td>21.25</td>\n",
              "      <td>130.00</td>\n",
              "      <td>1203.0</td>\n",
              "      <td>0.10960</td>\n",
              "      <td>0.15990</td>\n",
              "      <td>0.1974</td>\n",
              "      <td>0.12790</td>\n",
              "      <td>0.2069</td>\n",
              "      <td>0.05999</td>\n",
              "      <td>...</td>\n",
              "      <td>25.53</td>\n",
              "      <td>152.50</td>\n",
              "      <td>1709.0</td>\n",
              "      <td>0.1444</td>\n",
              "      <td>0.4245</td>\n",
              "      <td>0.4504</td>\n",
              "      <td>0.2430</td>\n",
              "      <td>0.3613</td>\n",
              "      <td>0.08758</td>\n",
              "      <td>0</td>\n",
              "    </tr>\n",
              "    <tr>\n",
              "      <th>3</th>\n",
              "      <td>11.42</td>\n",
              "      <td>20.38</td>\n",
              "      <td>77.58</td>\n",
              "      <td>386.1</td>\n",
              "      <td>0.14250</td>\n",
              "      <td>0.28390</td>\n",
              "      <td>0.2414</td>\n",
              "      <td>0.10520</td>\n",
              "      <td>0.2597</td>\n",
              "      <td>0.09744</td>\n",
              "      <td>...</td>\n",
              "      <td>26.50</td>\n",
              "      <td>98.87</td>\n",
              "      <td>567.7</td>\n",
              "      <td>0.2098</td>\n",
              "      <td>0.8663</td>\n",
              "      <td>0.6869</td>\n",
              "      <td>0.2575</td>\n",
              "      <td>0.6638</td>\n",
              "      <td>0.17300</td>\n",
              "      <td>0</td>\n",
              "    </tr>\n",
              "    <tr>\n",
              "      <th>4</th>\n",
              "      <td>20.29</td>\n",
              "      <td>14.34</td>\n",
              "      <td>135.10</td>\n",
              "      <td>1297.0</td>\n",
              "      <td>0.10030</td>\n",
              "      <td>0.13280</td>\n",
              "      <td>0.1980</td>\n",
              "      <td>0.10430</td>\n",
              "      <td>0.1809</td>\n",
              "      <td>0.05883</td>\n",
              "      <td>...</td>\n",
              "      <td>16.67</td>\n",
              "      <td>152.20</td>\n",
              "      <td>1575.0</td>\n",
              "      <td>0.1374</td>\n",
              "      <td>0.2050</td>\n",
              "      <td>0.4000</td>\n",
              "      <td>0.1625</td>\n",
              "      <td>0.2364</td>\n",
              "      <td>0.07678</td>\n",
              "      <td>0</td>\n",
              "    </tr>\n",
              "  </tbody>\n",
              "</table>\n",
              "<p>5 rows × 31 columns</p>\n",
              "</div>\n",
              "    <div class=\"colab-df-buttons\">\n",
              "\n",
              "  <div class=\"colab-df-container\">\n",
              "    <button class=\"colab-df-convert\" onclick=\"convertToInteractive('df-0f321fe8-ef63-4177-a7a0-ea1a2fc7e66a')\"\n",
              "            title=\"Convert this dataframe to an interactive table.\"\n",
              "            style=\"display:none;\">\n",
              "\n",
              "  <svg xmlns=\"http://www.w3.org/2000/svg\" height=\"24px\" viewBox=\"0 -960 960 960\">\n",
              "    <path d=\"M120-120v-720h720v720H120Zm60-500h600v-160H180v160Zm220 220h160v-160H400v160Zm0 220h160v-160H400v160ZM180-400h160v-160H180v160Zm440 0h160v-160H620v160ZM180-180h160v-160H180v160Zm440 0h160v-160H620v160Z\"/>\n",
              "  </svg>\n",
              "    </button>\n",
              "\n",
              "  <style>\n",
              "    .colab-df-container {\n",
              "      display:flex;\n",
              "      gap: 12px;\n",
              "    }\n",
              "\n",
              "    .colab-df-convert {\n",
              "      background-color: #E8F0FE;\n",
              "      border: none;\n",
              "      border-radius: 50%;\n",
              "      cursor: pointer;\n",
              "      display: none;\n",
              "      fill: #1967D2;\n",
              "      height: 32px;\n",
              "      padding: 0 0 0 0;\n",
              "      width: 32px;\n",
              "    }\n",
              "\n",
              "    .colab-df-convert:hover {\n",
              "      background-color: #E2EBFA;\n",
              "      box-shadow: 0px 1px 2px rgba(60, 64, 67, 0.3), 0px 1px 3px 1px rgba(60, 64, 67, 0.15);\n",
              "      fill: #174EA6;\n",
              "    }\n",
              "\n",
              "    .colab-df-buttons div {\n",
              "      margin-bottom: 4px;\n",
              "    }\n",
              "\n",
              "    [theme=dark] .colab-df-convert {\n",
              "      background-color: #3B4455;\n",
              "      fill: #D2E3FC;\n",
              "    }\n",
              "\n",
              "    [theme=dark] .colab-df-convert:hover {\n",
              "      background-color: #434B5C;\n",
              "      box-shadow: 0px 1px 3px 1px rgba(0, 0, 0, 0.15);\n",
              "      filter: drop-shadow(0px 1px 2px rgba(0, 0, 0, 0.3));\n",
              "      fill: #FFFFFF;\n",
              "    }\n",
              "  </style>\n",
              "\n",
              "    <script>\n",
              "      const buttonEl =\n",
              "        document.querySelector('#df-0f321fe8-ef63-4177-a7a0-ea1a2fc7e66a button.colab-df-convert');\n",
              "      buttonEl.style.display =\n",
              "        google.colab.kernel.accessAllowed ? 'block' : 'none';\n",
              "\n",
              "      async function convertToInteractive(key) {\n",
              "        const element = document.querySelector('#df-0f321fe8-ef63-4177-a7a0-ea1a2fc7e66a');\n",
              "        const dataTable =\n",
              "          await google.colab.kernel.invokeFunction('convertToInteractive',\n",
              "                                                    [key], {});\n",
              "        if (!dataTable) return;\n",
              "\n",
              "        const docLinkHtml = 'Like what you see? Visit the ' +\n",
              "          '<a target=\"_blank\" href=https://colab.research.google.com/notebooks/data_table.ipynb>data table notebook</a>'\n",
              "          + ' to learn more about interactive tables.';\n",
              "        element.innerHTML = '';\n",
              "        dataTable['output_type'] = 'display_data';\n",
              "        await google.colab.output.renderOutput(dataTable, element);\n",
              "        const docLink = document.createElement('div');\n",
              "        docLink.innerHTML = docLinkHtml;\n",
              "        element.appendChild(docLink);\n",
              "      }\n",
              "    </script>\n",
              "  </div>\n",
              "\n",
              "\n",
              "<div id=\"df-43dddb1f-bbff-4558-a6d7-a90f6e8a164d\">\n",
              "  <button class=\"colab-df-quickchart\" onclick=\"quickchart('df-43dddb1f-bbff-4558-a6d7-a90f6e8a164d')\"\n",
              "            title=\"Suggest charts\"\n",
              "            style=\"display:none;\">\n",
              "\n",
              "<svg xmlns=\"http://www.w3.org/2000/svg\" height=\"24px\"viewBox=\"0 0 24 24\"\n",
              "     width=\"24px\">\n",
              "    <g>\n",
              "        <path d=\"M19 3H5c-1.1 0-2 .9-2 2v14c0 1.1.9 2 2 2h14c1.1 0 2-.9 2-2V5c0-1.1-.9-2-2-2zM9 17H7v-7h2v7zm4 0h-2V7h2v10zm4 0h-2v-4h2v4z\"/>\n",
              "    </g>\n",
              "</svg>\n",
              "  </button>\n",
              "\n",
              "<style>\n",
              "  .colab-df-quickchart {\n",
              "      --bg-color: #E8F0FE;\n",
              "      --fill-color: #1967D2;\n",
              "      --hover-bg-color: #E2EBFA;\n",
              "      --hover-fill-color: #174EA6;\n",
              "      --disabled-fill-color: #AAA;\n",
              "      --disabled-bg-color: #DDD;\n",
              "  }\n",
              "\n",
              "  [theme=dark] .colab-df-quickchart {\n",
              "      --bg-color: #3B4455;\n",
              "      --fill-color: #D2E3FC;\n",
              "      --hover-bg-color: #434B5C;\n",
              "      --hover-fill-color: #FFFFFF;\n",
              "      --disabled-bg-color: #3B4455;\n",
              "      --disabled-fill-color: #666;\n",
              "  }\n",
              "\n",
              "  .colab-df-quickchart {\n",
              "    background-color: var(--bg-color);\n",
              "    border: none;\n",
              "    border-radius: 50%;\n",
              "    cursor: pointer;\n",
              "    display: none;\n",
              "    fill: var(--fill-color);\n",
              "    height: 32px;\n",
              "    padding: 0;\n",
              "    width: 32px;\n",
              "  }\n",
              "\n",
              "  .colab-df-quickchart:hover {\n",
              "    background-color: var(--hover-bg-color);\n",
              "    box-shadow: 0 1px 2px rgba(60, 64, 67, 0.3), 0 1px 3px 1px rgba(60, 64, 67, 0.15);\n",
              "    fill: var(--button-hover-fill-color);\n",
              "  }\n",
              "\n",
              "  .colab-df-quickchart-complete:disabled,\n",
              "  .colab-df-quickchart-complete:disabled:hover {\n",
              "    background-color: var(--disabled-bg-color);\n",
              "    fill: var(--disabled-fill-color);\n",
              "    box-shadow: none;\n",
              "  }\n",
              "\n",
              "  .colab-df-spinner {\n",
              "    border: 2px solid var(--fill-color);\n",
              "    border-color: transparent;\n",
              "    border-bottom-color: var(--fill-color);\n",
              "    animation:\n",
              "      spin 1s steps(1) infinite;\n",
              "  }\n",
              "\n",
              "  @keyframes spin {\n",
              "    0% {\n",
              "      border-color: transparent;\n",
              "      border-bottom-color: var(--fill-color);\n",
              "      border-left-color: var(--fill-color);\n",
              "    }\n",
              "    20% {\n",
              "      border-color: transparent;\n",
              "      border-left-color: var(--fill-color);\n",
              "      border-top-color: var(--fill-color);\n",
              "    }\n",
              "    30% {\n",
              "      border-color: transparent;\n",
              "      border-left-color: var(--fill-color);\n",
              "      border-top-color: var(--fill-color);\n",
              "      border-right-color: var(--fill-color);\n",
              "    }\n",
              "    40% {\n",
              "      border-color: transparent;\n",
              "      border-right-color: var(--fill-color);\n",
              "      border-top-color: var(--fill-color);\n",
              "    }\n",
              "    60% {\n",
              "      border-color: transparent;\n",
              "      border-right-color: var(--fill-color);\n",
              "    }\n",
              "    80% {\n",
              "      border-color: transparent;\n",
              "      border-right-color: var(--fill-color);\n",
              "      border-bottom-color: var(--fill-color);\n",
              "    }\n",
              "    90% {\n",
              "      border-color: transparent;\n",
              "      border-bottom-color: var(--fill-color);\n",
              "    }\n",
              "  }\n",
              "</style>\n",
              "\n",
              "  <script>\n",
              "    async function quickchart(key) {\n",
              "      const quickchartButtonEl =\n",
              "        document.querySelector('#' + key + ' button');\n",
              "      quickchartButtonEl.disabled = true;  // To prevent multiple clicks.\n",
              "      quickchartButtonEl.classList.add('colab-df-spinner');\n",
              "      try {\n",
              "        const charts = await google.colab.kernel.invokeFunction(\n",
              "            'suggestCharts', [key], {});\n",
              "      } catch (error) {\n",
              "        console.error('Error during call to suggestCharts:', error);\n",
              "      }\n",
              "      quickchartButtonEl.classList.remove('colab-df-spinner');\n",
              "      quickchartButtonEl.classList.add('colab-df-quickchart-complete');\n",
              "    }\n",
              "    (() => {\n",
              "      let quickchartButtonEl =\n",
              "        document.querySelector('#df-43dddb1f-bbff-4558-a6d7-a90f6e8a164d button');\n",
              "      quickchartButtonEl.style.display =\n",
              "        google.colab.kernel.accessAllowed ? 'block' : 'none';\n",
              "    })();\n",
              "  </script>\n",
              "</div>\n",
              "\n",
              "    </div>\n",
              "  </div>\n"
            ],
            "application/vnd.google.colaboratory.intrinsic+json": {
              "type": "dataframe",
              "variable_name": "dataset"
            }
          },
          "metadata": {},
          "execution_count": 4
        }
      ]
    },
    {
      "cell_type": "markdown",
      "source": [
        ">A manipulação do dataset de câncer de mama inicia com os dados sendo separados em X (atributos/features) e y (rótulos/targets). O dataset contém 30 features (características mensuradas das amostras), e 569 instâncias. Os dados de cada atributo são do tipo numérico contínuo.\n",
        "\n",
        ">O dataset deve ser convertido para o DataFrame do Pandas, visando tornar o conjunto operável com os demais manipuladores matemáticos da modelagem. Nesta etapa, adiciona-se uma coluna chamada 'target' que representa o rótulo de cada amostra (indicando se a amostra é benigna ou maligna), sendo 0 para tumores benignos e 1 para tumores malignos. Estes rótulos serão armazenados em breast_cancer.target.\n",
        "---"
      ],
      "metadata": {
        "id": "4TezOcV08nVm"
      }
    },
    {
      "cell_type": "code",
      "source": [
        "# Preparação dos dados\n",
        "# Tamanho do conjunto de teste (20% dos dados separados para teste e 80% dos dados separados para treino)\n",
        "test_size = 0.20\n",
        "\n",
        "# Semente aleatória\n",
        "seed = 7\n",
        "\n",
        "# Separação em bases de treino e teste (holdout)\n",
        "array = dataset.values\n",
        "\n",
        "# Atributos\n",
        "X = array[:,0:30]\n",
        "\n",
        "# Classe (target)\n",
        "y = array[:,30]\n",
        "\n",
        "# Faz a divisão em bases de teste e treino\n",
        "X_train, X_test, y_train, y_test = train_test_split(X, y, test_size=test_size, random_state=seed)\n",
        "\n",
        "# Criando os folds para a validação cruzada\n",
        "\n",
        "# Número de folds da validação cruzada\n",
        "scoring = 'accuracy'\n",
        "num_particoes = 10\n",
        "\n",
        "# Faz o particionamento em 10 folds\n",
        "kfold = KFold(n_splits=num_particoes, shuffle=True, random_state=seed)"
      ],
      "metadata": {
        "id": "4NWrW7fY1Zlc"
      },
      "execution_count": 5,
      "outputs": []
    },
    {
      "cell_type": "markdown",
      "source": [
        "\n",
        ">Com a separação do dataset em bases de treino e teste (holdout), o conjunto de dados original é convertido em um array numpy. Esse array contém todas as linhas e colunas do conjunto de dados. Ele separa os atributos (X) e a classe (y) do conjunto de dados, onde X contém todas as linhas e as primeiras 30 colunas do array (os atributos), enquanto y contém todas as linhas e a trigésima primeira (31ª) coluna do array (a qual é a classe target adicionada).\n",
        "\n",
        ">O holdout é definido na proporção 80% dos dados para treino (X_train, y_train) e 20% para teste (X_test, y_test). Ou seja, os modelos de classificação serão treinados com 80% dos dados e testados com 20%. O parâmetro seed garante que a divisão seja feita de forma reproduzível.\n",
        "\n",
        ">Cria-se folds (partições) para a validação cruzada. Define-se o número de folds como 10, o que significa que os 30 atributos serão divididos em 10 partes iguais. O parâmetro \"shuffle=True\" indica que os dados serão embaralhados antes da divisão das partições, portanto, os conjuntos terão 3 atributos aleatórios.\n",
        "---"
      ],
      "metadata": {
        "id": "QPIKwCSf4OHy"
      }
    },
    {
      "cell_type": "markdown",
      "source": [
        "## **1.3. MODELAGEM E TREINAMENTO**"
      ],
      "metadata": {
        "id": "eXTxuhyF2O4k"
      }
    },
    {
      "cell_type": "code",
      "source": [
        "# Modelagem dos Classificadores\n",
        "# Definindo uma seed global que servirá para todas as etapas de modelgem\n",
        "np.random.seed(seed)\n",
        "\n",
        "# Listas para armazenar os modelos, os resultados e os nomes dos modelos\n",
        "models = []\n",
        "results = []\n",
        "names = []\n",
        "\n",
        "# Preparando os modelos e adicionando-os em uma lista\n",
        "models.append(('KNN', KNeighborsClassifier()))\n",
        "models.append(('CART', DecisionTreeClassifier()))\n",
        "models.append(('NB', GaussianNB()))\n",
        "models.append(('SVM', SVC()))\n",
        "\n",
        "# Avaliando um modelo por vez\n",
        "for name, model in models:\n",
        "  cv_results = cross_val_score(model, X_train, y_train, cv=kfold.split(X_train), scoring=scoring)\n",
        "  results.append(cv_results)\n",
        "  names.append(name)\n",
        "\n",
        "  # Média e desvio padrão dos 10 resultados da validação cruzada\n",
        "  msg = \"%s: %f (%f)\" % (name, cv_results.mean(), cv_results.std())\n",
        "  print(msg)\n",
        "\n",
        "# Boxplot de comparação dos modelos\n",
        "fig = plt.figure()\n",
        "fig.suptitle('Comparação da Acurácia dos Modelos')\n",
        "ax = fig.add_subplot(111)\n",
        "plt.boxplot(results)\n",
        "ax.set_xticklabels(names)\n",
        "plt.show()"
      ],
      "metadata": {
        "colab": {
          "base_uri": "https://localhost:8080/",
          "height": 0
        },
        "id": "1o6-Sy7G14FS",
        "outputId": "5508e369-ddba-439d-8d1a-1494e2d54b0b"
      },
      "execution_count": 6,
      "outputs": [
        {
          "output_type": "stream",
          "name": "stdout",
          "text": [
            "KNN: 0.936232 (0.045443)\n",
            "CART: 0.916184 (0.043158)\n",
            "NB: 0.933720 (0.041136)\n",
            "SVM: 0.907295 (0.057778)\n"
          ]
        },
        {
          "output_type": "display_data",
          "data": {
            "text/plain": [
              "<Figure size 640x480 with 1 Axes>"
            ],
            "image/png": "[encoded data removed]"
          },
          "metadata": {}
        }
      ]
    },
    {
      "cell_type": "markdown",
      "source": [
        ">A modelagem inicial consiste em aplicar 4 técnicas de classificação (KNN, Árvore de Decisão, Naive Bayes e SVM) na base de dados de treinamento. Este treinamento ocorre através de particionamento dos atributos, e os resultados de cada treino são armazenados em listas para os modelos, os resultados e os nomes.\n",
        "\n",
        ">Para cada modelo treinado, executa-se a validação cruzada (cross_val_score) com 10 folds (partições) usando os dados de treinamento (X_train, y_train). O desempenho de cada modelo é armazenado na lista results e o nome do modelo treinado é armazenado na lista names.\n",
        "\n",
        ">Realiza-se o cálculo da média e o desvio padrão da acurácia da validação cruzada. O resultado final desta etapa é um gráfico boxplot criado para comparar a acurácia dos modelos. Portanto, este bloco de código cria, avalia e compara quatro modelos de classificação diferentes usando validação cruzada.\n",
        "\n",
        ">KNN: A acurácia média do KNN foi de 93,62%, com um desvio padrão de 4,54%, em relação a média nos diferentes folds da validação cruzada. Isso significa que, em média, o modelo KNN apresentou a melhor acurácia de acerto na classificação das amostras de câncer de mama entre benígno (0) ou malígno (1).\n",
        "\n",
        ">CART: A acurácia média da árvore de decisão (CART) foi de aproximadamente 91,62%, com um desvio padrão de aproximadamente 4,32%.\n",
        "\n",
        ">NB: A acurácia média do Naive Bayes foi de aproximadamente 93,37%, com um desvio padrão de aproximadamente 4,11%.\n",
        "\n",
        ">SVM: A acurácia média do SVM foi de aproximadamente 90,73%, com um desvio padrão de aproximadamente 5,78%.\n",
        "---"
      ],
      "metadata": {
        "id": "SokRX8-jEmQk"
      }
    },
    {
      "cell_type": "markdown",
      "source": [
        "## **1.4. AVALIAÇÃO DE RESULTADOS**"
      ],
      "metadata": {
        "id": "kMwBAIMp2UP_"
      }
    },
    {
      "cell_type": "code",
      "source": [
        "# Criando um modelo com todo o conjunto de treino\n",
        "modelNB = GaussianNB()\n",
        "modelNB.fit(X_train, y_train)\n",
        "\n",
        "modelCART = DecisionTreeClassifier()\n",
        "modelCART.fit(X_train, y_train)\n",
        "\n",
        "modelKNN = KNeighborsClassifier()\n",
        "modelKNN.fit(X_train, y_train)\n",
        "\n",
        "modelSVM = SVC()\n",
        "modelSVM.fit(X_train, y_train)\n",
        "\n",
        "# Fazendo as predições com o conjunto de teste\n",
        "predictionsNB = modelNB.predict(X_test)\n",
        "predictionsCART = modelCART.predict(X_test)\n",
        "predictionsKNN = modelKNN.predict(X_test)\n",
        "predictionsSVM = modelSVM.predict(X_test)\n",
        "\n",
        "acuracia_NB = accuracy_score(y_test, predictionsNB)\n",
        "acuracia_CART = accuracy_score(y_test, predictionsCART)\n",
        "acuracia_KNN = accuracy_score(y_test, predictionsKNN)\n",
        "acuracia_SVM = accuracy_score(y_test, predictionsSVM)\n",
        "\n",
        "# Estimando a acurácia no conjunto de teste\n",
        "print('A acurácia do modelo Naive Bayes é: ', acuracia_NB)\n",
        "print('A acurácia do modelo Árvore de Decisão é: ', acuracia_CART)\n",
        "print('A acurácia do modelo KNN é: ', acuracia_KNN)\n",
        "print('A acurácia do modelo SVM é: ', acuracia_SVM)\n",
        "print('\\nO modelo com maior acurácia usando todo o conjunto de treino foi o Naive Bayes.')"
      ],
      "metadata": {
        "colab": {
          "base_uri": "https://localhost:8080/"
        },
        "id": "oWO6Zszt2B9J",
        "outputId": "020563b2-a10b-48a0-d2cc-90d085beda20"
      },
      "execution_count": 7,
      "outputs": [
        {
          "output_type": "stream",
          "name": "stdout",
          "text": [
            "A acurácia do modelo Naive Bayes é:  0.956140350877193\n",
            "A acurácia do modelo Árvore de Decisão é:  0.9298245614035088\n",
            "A acurácia do modelo KNN é:  0.9298245614035088\n",
            "A acurácia do modelo SVM é:  0.9035087719298246\n",
            "\n",
            "O modelo com maior acurácia usando todo o conjunto de treino foi o Naive Bayes.\n"
          ]
        }
      ]
    },
    {
      "cell_type": "markdown",
      "source": [
        ">A avaliação dos resultados se baseia na comparação do desempenho dos 4 modelos de classificação (KNN, Naive Bayes, Árvore de Decisão, SVM) com todo o conjunto de dados. Em seguida, realiza-se predições com o conjunto de teste (X_test). Buscando, portanto, a acurácia de cada modelo comparando as predições realizada com a base de teste com os rótulos reais (y_test) do conjunto de teste.\n",
        "\n",
        ">Esse processo ajuda a determinar qual modelo é mais adequado para a tarefa de classificação com base nos dados disponíveis. Os resultados mostram a acurácia de diferentes modelos de classificação ao serem testados no conjunto de treinamento dados (X_train e y_train). A acurácia é uma métrica que indica a proporção de predições corretas feitas pelo modelo em relação ao total de predições feitas.\n",
        "\n",
        ">O modelo Naive Bayes obteve a maior acurácia entre os modelos testados no conjunto de treino, ou seja, no conjunto com 80% das amostras de tecido. Resultando em uma acurácia de 95,61% na predição de amostras com câncer de mama no conjunto de treino.\n",
        "---"
      ],
      "metadata": {
        "id": "Zx0v9ss-Evg_"
      }
    },
    {
      "cell_type": "markdown",
      "source": [
        "# **2. RECURSOS AVANÇADOS DE MACHINE LEARNING PARA PROBLEMAS DE CLASSIFICAÇÃO**"
      ],
      "metadata": {
        "id": "WH5ZaZqlmilA"
      }
    },
    {
      "cell_type": "markdown",
      "source": [
        "---\n",
        ">Neste item, propõe-se avaliar os modelos de classificação utilizando diferentes técnicas de ensembles e pipelines. Os ensembles abordados serão o Bagging, o Random Forest, o Extra Trees, o AdaBoost, o Gradient Boosting e o Voting. Busca-se através destas técnicas avançadas de machine learning a validação cruzada entre os dados brutos, os padronizados e os normalizados. Além disso, será executado também otimização de hiperparâmetros de um dos modelos de classificação buscando a melhor configuação que gera o melhor resultado.\n",
        "---"
      ],
      "metadata": {
        "id": "6mBkIWpaNKsF"
      }
    },
    {
      "cell_type": "markdown",
      "source": [
        "## **2.1. DEFINIÇÃO DO PROBLEMA**"
      ],
      "metadata": {
        "id": "YHh7CQvv3JSq"
      }
    },
    {
      "cell_type": "markdown",
      "source": [
        "---\n",
        ">O objetivo deste item é avaliar se as técnicas avançadas de machine learning, através do uso de ensembles e pipelines, são capazes melhorar a predição dos modelos de classificação testados. Busca-se entender se, após a aplicação desta rotina de machine learning, ocorrerá o aperfeiçoamento da classificação das amostras de tecido mamário quanto ao diagnóstico de tumor benígno e tumor malígno.\n",
        "---"
      ],
      "metadata": {
        "id": "YLzQgKnf3IHn"
      }
    },
    {
      "cell_type": "markdown",
      "source": [
        "## **2.2. MODELAGEM E TREINAMENTO**"
      ],
      "metadata": {
        "id": "PjElc-su53Vy"
      }
    },
    {
      "cell_type": "markdown",
      "source": [
        "### **2.2.1. Modelagem de Classificadores Utilizando Ensembles**"
      ],
      "metadata": {
        "id": "aNPgONvpiPPO"
      }
    },
    {
      "cell_type": "code",
      "source": [
        "# Modelagem dos Classificadores Utilizando Ensembles\n",
        "# Lista que armazenará os modelos\n",
        "models = []\n",
        "\n",
        "# Criando os modelos e adicionando-os na lista de modelos\n",
        "models.append(('LR', LogisticRegression(max_iter=200)))\n",
        "models.append(('KNN', KNeighborsClassifier()))\n",
        "models.append(('CART', DecisionTreeClassifier()))\n",
        "models.append(('NB', GaussianNB()))\n",
        "models.append(('SVM', SVC()))\n",
        "\n",
        "# Definindo os parâmetros do classificador base para o BaggingClassifier\n",
        "base = DecisionTreeClassifier()\n",
        "num_trees = 100\n",
        "max_features = 3\n",
        "\n",
        "# Criando os modelos para o VotingClassifier\n",
        "bases = []\n",
        "model1 = LogisticRegression(max_iter=200)\n",
        "bases.append(('logistic', model1))\n",
        "model2 = DecisionTreeClassifier()\n",
        "bases.append(('cart', model2))\n",
        "model3 = SVC()\n",
        "bases.append(('svm', model3))\n",
        "\n",
        "# Criando os ensembles e adicionando-os na lista de modelos\n",
        "models.append(('Bagging', BaggingClassifier(estimator=base, n_estimators=num_trees)))\n",
        "models.append(('RF', RandomForestClassifier(n_estimators=num_trees, max_features=max_features)))\n",
        "models.append(('ET', ExtraTreesClassifier(n_estimators=num_trees, max_features=max_features)))\n",
        "models.append(('Ada', AdaBoostClassifier(n_estimators=num_trees)))\n",
        "models.append(('GB', GradientBoostingClassifier(n_estimators=num_trees)))\n",
        "models.append(('Voting', VotingClassifier(bases)))\n",
        "\n",
        "# Listas para armazenar os resultados\n",
        "results = []\n",
        "names = []\n",
        "\n",
        "# Avaliação dos modelos\n",
        "for name, model in models:\n",
        "    cv_results = cross_val_score(model, X_train, y_train, cv=kfold, scoring=scoring)\n",
        "    results.append(cv_results)\n",
        "    names.append(name)\n",
        "    msg = \"%s: %f (%f)\" % (name, cv_results.mean(), cv_results.std())\n",
        "    print(msg)\n",
        "\n",
        "# Boxplot de comparação dos modelos\n",
        "fig = plt.figure(figsize=(15,10))\n",
        "fig.suptitle('Comparação dos Modelos')\n",
        "ax = fig.add_subplot(111)\n",
        "plt.boxplot(results)\n",
        "ax.set_xticklabels(names)\n",
        "plt.show()"
      ],
      "metadata": {
        "colab": {
          "base_uri": "https://localhost:8080/",
          "height": 0
        },
        "id": "6zrUPv_tqzAw",
        "outputId": "ccfd02ac-c2fb-4da0-b028-b9e4337f8f5b"
      },
      "execution_count": 8,
      "outputs": [
        {
          "output_type": "stream",
          "name": "stdout",
          "text": [
            "LR: 0.953671 (0.028955)\n",
            "KNN: 0.936232 (0.045443)\n",
            "CART: 0.916135 (0.048526)\n",
            "NB: 0.933720 (0.041136)\n",
            "SVM: 0.907295 (0.057778)\n",
            "Bagging: 0.957971 (0.039108)\n",
            "RF: 0.955749 (0.039754)\n",
            "ET: 0.955797 (0.032996)\n",
            "Ada: 0.964686 (0.026629)\n",
            "GB: 0.955797 (0.035923)\n",
            "Voting: 0.953527 (0.042650)\n"
          ]
        },
        {
          "output_type": "display_data",
          "data": {
            "text/plain": [
              "<Figure size 1500x1000 with 1 Axes>"
            ],
            "image/png": "[encoded data removed]"
          },
          "metadata": {}
        }
      ]
    },
    {
      "cell_type": "markdown",
      "source": [
        "\n",
        ">Neste bloco ocorre a classificação dos dados com modelos individuais e modelos com ensembles. Os modelos individuais são os mesmos do item 1. (KNN, Árvore de Decisão, Naive Bayes e SVM) incluindo a Regressão Logística. Enquanto que os modelos com ensembles são o Bagging, Random Forest, Extra Trees, AdaBoost, Gradient Boost e Voting.\n",
        "\n",
        ">Os parâmetros definidos para o ensemble Bagging foram o classificador base sendo a Árvore de Decisão, o número de árvores é 100 e o número máximo de features é 3. Enquanto que o ensemble Voting recebe como classificadores base os modelos Regressão Logística, Árvore de Decisão e SVM.\n",
        "\n",
        ">Para cada técnica de ensemble (Bagging, Random Forest, Extra Trees, AdaBoost, Gradient Boosting, Voting), um modelo é criado com os parâmetros correspondentes e adicionado à lista de modelos. Para cada modelo na lista, é realizada uma validação cruzada (cross-validation) usando cross_val_score para calcular a precisão média e o desvio padrão da precisão.\n",
        "\n",
        ">Um boxplot é gerado para comparar as distribuições das precisões dos diferentes modelos. Cada caixa no gráfico representa a distribuição das precisões obtidas pelos modelos durante a validação cruzada. Esses resultados representam a precisão média e o desvio padrão da precisão para cada modelo de classificação avaliado usando validação cruzada. Um desvio padrão maior pode indicar maior variabilidade nos resultados da validação cruzada, o que pode ser útil para avaliar a estabilidade do modelo.\n",
        "\n",
        ">Em termos de precisão média, o modelo AdaBoost (Ada) obteve a maior precisão média (96,47%), seguido pelo Bagging com 95,80%, Extra Trees (ET) com 95,58% e Random Forest com 95,57%.\n",
        "---"
      ],
      "metadata": {
        "id": "qVNipQvFC-gt"
      }
    },
    {
      "cell_type": "markdown",
      "source": [
        "### **2.2.2. Modelagem de Pipelines**"
      ],
      "metadata": {
        "id": "2JduH4Elh7qw"
      }
    },
    {
      "cell_type": "code",
      "source": [
        "# Modelagem dos Pipelines\n",
        "# Listas para armazenar os armazenar os pipelines e os resultados para todas as visões do dataset\n",
        "pipelines = []\n",
        "results = []\n",
        "names = []\n",
        "\n",
        "# Criando os elementos do pipeline\n",
        "# Algoritmos que serão utilizados\n",
        "reg_log = ('LR', LogisticRegression(max_iter=200))\n",
        "knn = ('KNN', KNeighborsClassifier())\n",
        "cart = ('CART', DecisionTreeClassifier())\n",
        "naive_bayes = ('NB', GaussianNB())\n",
        "svm = ('SVM', SVC())\n",
        "bagging = ('Bag', BaggingClassifier(estimator=base, n_estimators=num_trees))\n",
        "random_forest = ('RF', RandomForestClassifier(n_estimators=num_trees, max_features=max_features))\n",
        "extra_trees = ('ET', ExtraTreesClassifier(n_estimators=num_trees, max_features=max_features))\n",
        "adaboost = ('Ada', AdaBoostClassifier(n_estimators=num_trees))\n",
        "gradient_boosting = ('GB', GradientBoostingClassifier(n_estimators=num_trees))\n",
        "voting = ('Voting', VotingClassifier(bases))\n",
        "\n",
        "# Transformações que serão utilizadas\n",
        "standard_scaler = ('StandardScaler', StandardScaler())\n",
        "min_max_scaler = ('MinMaxScaler', MinMaxScaler())\n",
        "\n",
        "# Montando os pipelines\n",
        "# Dataset original\n",
        "pipelines.append(('LR-orig', Pipeline([reg_log])))\n",
        "pipelines.append(('KNN-orig', Pipeline([knn])))\n",
        "pipelines.append(('CART-orig', Pipeline([cart])))\n",
        "pipelines.append(('NB-orig', Pipeline([naive_bayes])))\n",
        "pipelines.append(('SVM-orig', Pipeline([svm])))\n",
        "pipelines.append(('Bag-orig', Pipeline([bagging])))\n",
        "pipelines.append(('RF-orig', Pipeline([random_forest])))\n",
        "pipelines.append(('ET-orig', Pipeline([extra_trees])))\n",
        "pipelines.append(('Ada-orig', Pipeline([adaboost])))\n",
        "pipelines.append(('GB-orig', Pipeline([gradient_boosting])))\n",
        "pipelines.append(('Vot-orig', Pipeline([voting])))\n",
        "\n",
        "# Dataset Padronizado\n",
        "pipelines.append(('LR-padr', Pipeline([standard_scaler, reg_log])))\n",
        "pipelines.append(('KNN-padr', Pipeline([standard_scaler, knn])))\n",
        "pipelines.append(('CART-padr', Pipeline([standard_scaler, cart])))\n",
        "pipelines.append(('NB-padr', Pipeline([standard_scaler, naive_bayes])))\n",
        "pipelines.append(('SVM-padr', Pipeline([standard_scaler, svm])))\n",
        "pipelines.append(('Bag-padr', Pipeline([standard_scaler, bagging])))\n",
        "pipelines.append(('RF-padr', Pipeline([standard_scaler, random_forest])))\n",
        "pipelines.append(('ET-padr', Pipeline([standard_scaler, extra_trees])))\n",
        "pipelines.append(('Ada-padr', Pipeline([standard_scaler, adaboost])))\n",
        "pipelines.append(('GB-padr', Pipeline([standard_scaler, gradient_boosting])))\n",
        "pipelines.append(('Vot-padr', Pipeline([standard_scaler, voting])))\n",
        "\n",
        "# Dataset Normalizado\n",
        "pipelines.append(('LR-norm', Pipeline([min_max_scaler, reg_log])))\n",
        "pipelines.append(('KNN-norm', Pipeline([min_max_scaler, knn])))\n",
        "pipelines.append(('CART-norm', Pipeline([min_max_scaler, cart])))\n",
        "pipelines.append(('NB-norm', Pipeline([min_max_scaler, naive_bayes])))\n",
        "pipelines.append(('SVM-norm', Pipeline([min_max_scaler, svm])))\n",
        "pipelines.append(('Bag-norm', Pipeline([min_max_scaler, bagging])))\n",
        "pipelines.append(('RF-norm', Pipeline([min_max_scaler, random_forest])))\n",
        "pipelines.append(('ET-norm', Pipeline([min_max_scaler, extra_trees])))\n",
        "pipelines.append(('Ada-norm', Pipeline([min_max_scaler, adaboost])))\n",
        "pipelines.append(('GB-norm', Pipeline([min_max_scaler, gradient_boosting])))\n",
        "pipelines.append(('Vot-norm', Pipeline([min_max_scaler, voting])))\n",
        "\n",
        "# Executando os pipelines\n",
        "for name, model in pipelines:\n",
        "    cv_results = cross_val_score(model, X_train, y_train, cv=kfold, scoring=scoring)\n",
        "    results.append(cv_results)\n",
        "    names.append(name)\n",
        "\n",
        "    # formatando para 3 casas decimais\n",
        "    msg = \"%s: %.3f (%.3f)\" % (name, cv_results.mean(), cv_results.std())\n",
        "    print(msg)\n",
        "\n",
        "# Boxplot de comparação dos modelos\n",
        "fig = plt.figure(figsize=(25,6))\n",
        "fig.suptitle('Comparação dos Modelos - Dataset orginal, padronizado e normalizado')\n",
        "ax = fig.add_subplot(111)\n",
        "plt.boxplot(results)\n",
        "ax.set_xticklabels(names, rotation=90)\n",
        "plt.show()"
      ],
      "metadata": {
        "colab": {
          "base_uri": "https://localhost:8080/",
          "height": 0
        },
        "id": "ZuL1FUJIC_Eu",
        "outputId": "7c93cc21-0534-4097-be53-5531d7aaa317"
      },
      "execution_count": 9,
      "outputs": [
        {
          "output_type": "stream",
          "name": "stdout",
          "text": [
            "LR-orig: 0.954 (0.029)\n",
            "KNN-orig: 0.936 (0.045)\n",
            "CART-orig: 0.925 (0.040)\n",
            "NB-orig: 0.934 (0.041)\n",
            "SVM-orig: 0.907 (0.058)\n",
            "Bag-orig: 0.956 (0.041)\n",
            "RF-orig: 0.954 (0.039)\n",
            "ET-orig: 0.962 (0.032)\n",
            "Ada-orig: 0.965 (0.027)\n",
            "GB-orig: 0.954 (0.034)\n",
            "Vot-orig: 0.956 (0.042)\n",
            "LR-padr: 0.971 (0.022)\n",
            "KNN-padr: 0.960 (0.031)\n",
            "CART-padr: 0.925 (0.049)\n",
            "NB-padr: 0.938 (0.043)\n",
            "SVM-padr: 0.967 (0.018)\n",
            "Bag-padr: 0.949 (0.030)\n",
            "RF-padr: 0.954 (0.038)\n",
            "ET-padr: 0.956 (0.034)\n",
            "Ada-padr: 0.963 (0.026)\n",
            "GB-padr: 0.956 (0.036)\n",
            "Vot-padr: 0.971 (0.022)\n",
            "LR-norm: 0.963 (0.024)\n",
            "KNN-norm: 0.967 (0.029)\n",
            "CART-norm: 0.921 (0.035)\n",
            "NB-norm: 0.938 (0.043)\n",
            "SVM-norm: 0.976 (0.018)\n",
            "Bag-norm: 0.965 (0.033)\n",
            "RF-norm: 0.958 (0.042)\n",
            "ET-norm: 0.965 (0.027)\n",
            "Ada-norm: 0.963 (0.026)\n",
            "GB-norm: 0.956 (0.036)\n",
            "Vot-norm: 0.969 (0.022)\n"
          ]
        },
        {
          "output_type": "display_data",
          "data": {
            "text/plain": [
              "<Figure size 2500x600 with 1 Axes>"
            ],
            "image/png": "[encoded data removed]"
          },
          "metadata": {}
        }
      ]
    },
    {
      "cell_type": "markdown",
      "source": [
        "\n",
        ">A  modelagem de pipelines é aplicada para diferentes algoritmos de classificação e diferentes métodos de pré-processamento de dados. A avaliação do desempenho dos modelos utiliza a validação cruzada, ajudando a identificar quais abordagens funcionam melhor para o conjunto de dados.\n",
        "\n",
        ">Os pipelines são montados combinando os modelos e transformações de diferentes maneiras. Neste sentido, haverá um pipeline, para cada um dos modelos de classificação, aplicados em dados originais não processados, em dados padronizados e em dados normalizados. Cada pipeline é avaliado com validação cruzada. Os resultados são armazenados na lista \"results\" junto com os nomes dos pipelines na lista \"names\".\n",
        "\n",
        ">Os resultados representam a precisão média e o desvio padrão da precisão para diferentes modelos de classificação com diferentes métodos de pré-processamento de dados. Os quais corroboram na comparação da performance dos modelos de classificação com diferentes métodos de pré-processamento de dados.\n",
        "\n",
        ">Os modelos com pré-processamento (\"-padr\" e \"-norm\") apresentaram melhor desempenho do que os modelos sem pré-processamento (\"-orig\"). Além disso, podemos ver que a padronização (standard scaler) e a normalização (min-max scaler) dos dados geralmente melhoram a precisão dos modelos em comparação com o uso dos dados originais. Além disso, as melhores acurácias são dos modelos Regressão Logística, SVM e Voting.\n",
        "---"
      ],
      "metadata": {
        "id": "q6dw6BRWaYP4"
      }
    },
    {
      "cell_type": "markdown",
      "source": [
        "### **2.2.3. Ajuste de Hiperparâmetro**"
      ],
      "metadata": {
        "id": "U5RkdHCZZNNA"
      }
    },
    {
      "cell_type": "code",
      "source": [
        "# Ajuste de hiperparâmetro a partir da Regressão Logística\n",
        "# Criando a lista de armazenamento dos resultados de Pipeline\n",
        "pipelines = []\n",
        "\n",
        "# Definindo os componentes do pipeline\n",
        "log_reg = ('LogisticRegression', LogisticRegression(max_iter=200))\n",
        "standard_scaler = ('StandardScaler', StandardScaler())\n",
        "min_max_scaler = ('MinMaxScaler', MinMaxScaler())\n",
        "\n",
        "pipelines.append(('logreg-orig', Pipeline(steps=[log_reg])))\n",
        "pipelines.append(('logreg-padr', Pipeline(steps=[standard_scaler, log_reg])))\n",
        "pipelines.append(('logreg-norm', Pipeline(steps=[min_max_scaler, log_reg])))\n",
        "\n",
        "param_grid = {\n",
        "    'LogisticRegression__C': [0.001, 0.01, 0.1, 1, 10, 100, 1000],\n",
        "    'LogisticRegression__penalty': ['l1', 'l2', 'elasticnet', 'none'],\n",
        "    'LogisticRegression__solver': ['newton-cg', 'lbfgs', 'liblinear', 'sag', 'saga']\n",
        "}\n",
        "\n",
        "# Prepara e executa o GridSearchCV\n",
        "for name, model in pipelines:\n",
        "    grid = GridSearchCV(estimator=model, param_grid=param_grid, scoring=scoring, cv=kfold)\n",
        "    grid.fit(X_train, y_train)\n",
        "\n",
        "    # imprime a melhor configuração\n",
        "    print(\"Sem tratamento de missings: %s - Melhor: %f usando %s\" % (name, grid.best_score_, grid.best_params_))"
      ],
      "metadata": {
        "colab": {
          "base_uri": "https://localhost:8080/"
        },
        "id": "T6tVuy60bzhg",
        "outputId": "911e15b0-1191-4087-e7eb-1896417622bf"
      },
      "execution_count": 10,
      "outputs": [
        {
          "output_type": "stream",
          "name": "stdout",
          "text": [
            "Sem tratamento de missings: logreg-orig - Melhor: 0.962415 usando {'LogisticRegression__C': 100, 'LogisticRegression__penalty': 'l1', 'LogisticRegression__solver': 'liblinear'}\n",
            "Sem tratamento de missings: logreg-padr - Melhor: 0.980145 usando {'LogisticRegression__C': 1, 'LogisticRegression__penalty': 'l1', 'LogisticRegression__solver': 'liblinear'}\n",
            "Sem tratamento de missings: logreg-norm - Melhor: 0.977971 usando {'LogisticRegression__C': 10, 'LogisticRegression__penalty': 'l2', 'LogisticRegression__solver': 'newton-cg'}\n"
          ]
        }
      ]
    },
    {
      "cell_type": "code",
      "source": [
        "# Ajuste de hiperparâmetro a partir do SVM\n",
        "# Criando a lista de armazenamento dos resultados de Pipeline\n",
        "pipelines = []\n",
        "\n",
        "# Definindo os componentes do pipeline\n",
        "svm = ('SVM', SVC())\n",
        "standard_scaler = ('StandardScaler', StandardScaler())\n",
        "min_max_scaler = ('MinMaxScaler', MinMaxScaler())\n",
        "\n",
        "pipelines.append(('svm-orig', Pipeline(steps=[svm])))\n",
        "pipelines.append(('svm-padr', Pipeline(steps=[standard_scaler, svm])))\n",
        "pipelines.append(('svm-norm', Pipeline(steps=[min_max_scaler, svm])))\n",
        "\n",
        "param_grid = {\n",
        "    'SVM__C': [0.1, 1, 10, 100],\n",
        "    'SVM__kernel': ['linear', 'rbf'],\n",
        "    'SVM__gamma': ['scale', 'auto']\n",
        "}\n",
        "\n",
        "# Prepara e executa o GridSearchCV\n",
        "for name, model in pipelines:\n",
        "    grid = GridSearchCV(estimator=model, param_grid=param_grid, scoring=scoring, cv=kfold)\n",
        "    grid.fit(X_train, y_train)\n",
        "\n",
        "    # imprime a melhor configuração\n",
        "    print(\"Sem tratamento de missings: %s - Melhor: %f usando %s\" % (name, grid.best_score_, grid.best_params_))"
      ],
      "metadata": {
        "colab": {
          "base_uri": "https://localhost:8080/"
        },
        "id": "68dD_Lsrcof0",
        "outputId": "30677531-ab80-4272-e098-04f8c9be9e9b"
      },
      "execution_count": 11,
      "outputs": [
        {
          "output_type": "stream",
          "name": "stdout",
          "text": [
            "Sem tratamento de missings: svm-orig - Melhor: 0.962512 usando {'SVM__C': 1, 'SVM__gamma': 'scale', 'SVM__kernel': 'linear'}\n",
            "Sem tratamento de missings: svm-padr - Melhor: 0.971304 usando {'SVM__C': 0.1, 'SVM__gamma': 'scale', 'SVM__kernel': 'linear'}\n",
            "Sem tratamento de missings: svm-norm - Melhor: 0.975797 usando {'SVM__C': 1, 'SVM__gamma': 'scale', 'SVM__kernel': 'rbf'}\n"
          ]
        }
      ]
    },
    {
      "cell_type": "code",
      "source": [
        "# Ajuste de hiperparâmetros a partir do Voting\n",
        "# Criando a lista de armazenamento dos resultados de Pipeline\n",
        "pipelines = []\n",
        "\n",
        "# Definindo os modelos de classificação para o ensemble\n",
        "models = [\n",
        "    ('KNN', KNeighborsClassifier()),\n",
        "    ('LogisticRegression', LogisticRegression(max_iter=200)),\n",
        "    ('DecisionTree', DecisionTreeClassifier()),\n",
        "    ('GaussianNB', GaussianNB()),\n",
        "    ('SVC', SVC()),\n",
        "    ('RandomForest', RandomForestClassifier(n_estimators=num_trees, max_features=max_features))\n",
        "]\n",
        "\n",
        "# Definindo o ensemble VotingClassifier\n",
        "voting = ('Voting', VotingClassifier(estimators=models))\n",
        "\n",
        "pipelines.append(('voting-orig', Pipeline(steps=[voting])))\n",
        "pipelines.append(('voting-padr', Pipeline(steps=[standard_scaler, voting])))\n",
        "pipelines.append(('voting-norm', Pipeline(steps=[min_max_scaler, voting])))\n",
        "\n",
        "param_grid = {\n",
        "    'Voting__voting': ['hard', 'soft']\n",
        "}\n",
        "\n",
        "# Prepara e executa o GridSearchCV\n",
        "for name, model in pipelines:\n",
        "    grid = GridSearchCV(estimator=model, param_grid=param_grid, scoring=scoring, cv=kfold)\n",
        "    grid.fit(X_train, y_train)\n",
        "\n",
        "    # imprime a melhor configuração\n",
        "    print(\"Sem tratamento de missings: %s - Melhor: %f usando %s\" % (name, grid.best_score_, grid.best_params_))"
      ],
      "metadata": {
        "colab": {
          "base_uri": "https://localhost:8080/"
        },
        "id": "xKiN3cmntovs",
        "outputId": "e8b33efa-3c2f-4119-e798-9d91cb90a9d7"
      },
      "execution_count": 12,
      "outputs": [
        {
          "output_type": "stream",
          "name": "stdout",
          "text": [
            "Sem tratamento de missings: voting-orig - Melhor: 0.955749 usando {'Voting__voting': 'hard'}\n",
            "Sem tratamento de missings: voting-padr - Melhor: 0.960193 usando {'Voting__voting': 'hard'}\n",
            "Sem tratamento de missings: voting-norm - Melhor: 0.958019 usando {'Voting__voting': 'hard'}\n"
          ]
        }
      ]
    },
    {
      "cell_type": "markdown",
      "source": [
        ">Optou-se por testar os ajustes de hiperparâmetros dos três modelos de classificação que apresentaram a melhor acurácia na classificação com técnica de pipeline. O resultado representa a acurácia média obtida durante a validação cruzada para diferentes configurações do modelo em três cenários: sem tratamento especial dos dados, com padronização e com normalização dos dados.\n",
        "\n",
        ">A interpretação dos resultados deste bloco considera apenas o modelo de classificação que melhor se ajustou os hiperparâmetros, que foi o Regressão Logística. Observando que, para este dataset, o melhor desempenho foi obtido com a padronização ou normalização dos dados, utilizando diferentes conjuntos de hiperparâmetros.\n",
        "\n",
        ">Para o cenário \"logreg-orig\" (sem tratamento de dados), a melhor acurácia foi de aproximadamente 96.24% utilizando o modelo de Regressão Logística com parâmetros C=100, penalty='l1' e solver='liblinear'.\n",
        "\n",
        ">Para o cenário \"logreg-padr\" (com padronização dos dados), a melhor acurácia foi de aproximadamente 97.79% utilizando o modelo de Regressão Logística com parâmetros C=0.1, penalty='l2' e solver='liblinear'.\n",
        "\n",
        ">Para o cenário \"logreg-norm\" (com normalização dos dados), a melhor acurácia foi de aproximadamente 97.80% utilizando o modelo de Regressão Logística com parâmetros C=10, penalty='l2' e solver='newton-cg'.\n",
        "---"
      ],
      "metadata": {
        "id": "vNP32tx3lYMw"
      }
    },
    {
      "cell_type": "markdown",
      "source": [
        "## **2.4. AVALIAÇÃO DOS RESULTADOS**"
      ],
      "metadata": {
        "id": "Nt9srNTRILCy"
      }
    },
    {
      "cell_type": "code",
      "source": [
        "# Avaliação do modelo com o conjunto de testes\n",
        "# Ajuste do scaler com o conjunto de treino\n",
        "scaler = StandardScaler().fit(X_train)\n",
        "\n",
        "# Aplicação da padronização no conjunto de treino\n",
        "rescaledX = scaler.transform(X_train)\n",
        "model = LogisticRegression(max_iter=200)\n",
        "model.fit(rescaledX, y_train)\n",
        "\n",
        "# Estimativa da acurácia no conjunto de teste\n",
        "# Aplicação da padronização no conjunto de teste\n",
        "rescaledTestX = scaler.transform(X_test)\n",
        "predictions = model.predict(rescaledTestX)\n",
        "print(accuracy_score(y_test, predictions))"
      ],
      "metadata": {
        "colab": {
          "base_uri": "https://localhost:8080/"
        },
        "id": "l-2Ce0zYILkT",
        "outputId": "36238e40-74b5-4c76-dc29-8cd74854c00f"
      },
      "execution_count": 13,
      "outputs": [
        {
          "output_type": "stream",
          "name": "stdout",
          "text": [
            "0.9824561403508771\n"
          ]
        }
      ]
    },
    {
      "cell_type": "markdown",
      "source": [
        ">Considerando as técnicas avançadas de machine learning, o modelo de classificação da Regressão Logística apresentou a melhor acurácia na predição das classes do dataset. Portanto, este será o modelo avaliado na verificação final da predição de classe com dados novos.\n",
        "\n",
        ">A avaliação de um modelo de Regressão Logística usando um conjunto de testes visa garantir que o scaler é ajustado apenas aos dados de treino, evitando vazamento de informações do conjunto de teste para o treinamento. Com o modelo treinado é aplicado para todo o dataset para garantir que os dados estejam na mesma escala antes de fazer previsões e calcular a acurácia.\n",
        "\n",
        ">A acurácia do modelo de Regressão Logística ao fazer previsões no conjunto de teste após o treinamento foi de 98.25% das amostras no conjunto de teste. Uma acurácia alta indica que o modelo teve um bom desempenho na classificação das amostras do conjunto de teste.\n",
        "---"
      ],
      "metadata": {
        "id": "gBxnDcoQQY5j"
      }
    },
    {
      "cell_type": "code",
      "source": [
        "# Preparação do modelo com TODO o dataset\n",
        "# Ajuste do scaler com TODO o dataset\n",
        "scaler = StandardScaler().fit(X)\n",
        "\n",
        "# Aplicação da padronização com TODO o dataset\n",
        "rescaledX = scaler.transform(X)\n",
        "model.fit(rescaledX, y)"
      ],
      "metadata": {
        "colab": {
          "base_uri": "https://localhost:8080/",
          "height": 0
        },
        "id": "qw8nlsdURFkR",
        "outputId": "ccab155f-4e23-44c2-b470-1020bfb02d47"
      },
      "execution_count": 14,
      "outputs": [
        {
          "output_type": "execute_result",
          "data": {
            "text/plain": [
              "LogisticRegression(max_iter=200)"
            ],
            "text/html": [
              "<style>#sk-container-id-1 {\n",
              "  /* Definition of color scheme common for light and dark mode */\n",
              "  --sklearn-color-text: black;\n",
              "  --sklearn-color-line: gray;\n",
              "  /* Definition of color scheme for unfitted estimators */\n",
              "  --sklearn-color-unfitted-level-0: #fff5e6;\n",
              "  --sklearn-color-unfitted-level-1: #f6e4d2;\n",
              "  --sklearn-color-unfitted-level-2: #ffe0b3;\n",
              "  --sklearn-color-unfitted-level-3: chocolate;\n",
              "  /* Definition of color scheme for fitted estimators */\n",
              "  --sklearn-color-fitted-level-0: #f0f8ff;\n",
              "  --sklearn-color-fitted-level-1: #d4ebff;\n",
              "  --sklearn-color-fitted-level-2: #b3dbfd;\n",
              "  --sklearn-color-fitted-level-3: cornflowerblue;\n",
              "\n",
              "  /* Specific color for light theme */\n",
              "  --sklearn-color-text-on-default-background: var(--sg-text-color, var(--theme-code-foreground, var(--jp-content-font-color1, black)));\n",
              "  --sklearn-color-background: var(--sg-background-color, var(--theme-background, var(--jp-layout-color0, white)));\n",
              "  --sklearn-color-border-box: var(--sg-text-color, var(--theme-code-foreground, var(--jp-content-font-color1, black)));\n",
              "  --sklearn-color-icon: #696969;\n",
              "\n",
              "  @media (prefers-color-scheme: dark) {\n",
              "    /* Redefinition of color scheme for dark theme */\n",
              "    --sklearn-color-text-on-default-background: var(--sg-text-color, var(--theme-code-foreground, var(--jp-content-font-color1, white)));\n",
              "    --sklearn-color-background: var(--sg-background-color, var(--theme-background, var(--jp-layout-color0, #111)));\n",
              "    --sklearn-color-border-box: var(--sg-text-color, var(--theme-code-foreground, var(--jp-content-font-color1, white)));\n",
              "    --sklearn-color-icon: #878787;\n",
              "  }\n",
              "}\n",
              "\n",
              "#sk-container-id-1 {\n",
              "  color: var(--sklearn-color-text);\n",
              "}\n",
              "\n",
              "#sk-container-id-1 pre {\n",
              "  padding: 0;\n",
              "}\n",
              "\n",
              "#sk-container-id-1 input.sk-hidden--visually {\n",
              "  border: 0;\n",
              "  clip: rect(1px 1px 1px 1px);\n",
              "  clip: rect(1px, 1px, 1px, 1px);\n",
              "  height: 1px;\n",
              "  margin: -1px;\n",
              "  overflow: hidden;\n",
              "  padding: 0;\n",
              "  position: absolute;\n",
              "  width: 1px;\n",
              "}\n",
              "\n",
              "#sk-container-id-1 div.sk-dashed-wrapped {\n",
              "  border: 1px dashed var(--sklearn-color-line);\n",
              "  margin: 0 0.4em 0.5em 0.4em;\n",
              "  box-sizing: border-box;\n",
              "  padding-bottom: 0.4em;\n",
              "  background-color: var(--sklearn-color-background);\n",
              "}\n",
              "\n",
              "#sk-container-id-1 div.sk-container {\n",
              "  /* jupyter's `normalize.less` sets `[hidden] { display: none; }`\n",
              "     but bootstrap.min.css set `[hidden] { display: none !important; }`\n",
              "     so we also need the `!important` here to be able to override the\n",
              "     default hidden behavior on the sphinx rendered scikit-learn.org.\n",
              "     See: https://github.com/scikit-learn/scikit-learn/issues/21755 */\n",
              "  display: inline-block !important;\n",
              "  position: relative;\n",
              "}\n",
              "\n",
              "#sk-container-id-1 div.sk-text-repr-fallback {\n",
              "  display: none;\n",
              "}\n",
              "\n",
              "div.sk-parallel-item,\n",
              "div.sk-serial,\n",
              "div.sk-item {\n",
              "  /* draw centered vertical line to link estimators */\n",
              "  background-image: linear-gradient(var(--sklearn-color-text-on-default-background), var(--sklearn-color-text-on-default-background));\n",
              "  background-size: 2px 100%;\n",
              "  background-repeat: no-repeat;\n",
              "  background-position: center center;\n",
              "}\n",
              "\n",
              "/* Parallel-specific style estimator block */\n",
              "\n",
              "#sk-container-id-1 div.sk-parallel-item::after {\n",
              "  content: \"\";\n",
              "  width: 100%;\n",
              "  border-bottom: 2px solid var(--sklearn-color-text-on-default-background);\n",
              "  flex-grow: 1;\n",
              "}\n",
              "\n",
              "#sk-container-id-1 div.sk-parallel {\n",
              "  display: flex;\n",
              "  align-items: stretch;\n",
              "  justify-content: center;\n",
              "  background-color: var(--sklearn-color-background);\n",
              "  position: relative;\n",
              "}\n",
              "\n",
              "#sk-container-id-1 div.sk-parallel-item {\n",
              "  display: flex;\n",
              "  flex-direction: column;\n",
              "}\n",
              "\n",
              "#sk-container-id-1 div.sk-parallel-item:first-child::after {\n",
              "  align-self: flex-end;\n",
              "  width: 50%;\n",
              "}\n",
              "\n",
              "#sk-container-id-1 div.sk-parallel-item:last-child::after {\n",
              "  align-self: flex-start;\n",
              "  width: 50%;\n",
              "}\n",
              "\n",
              "#sk-container-id-1 div.sk-parallel-item:only-child::after {\n",
              "  width: 0;\n",
              "}\n",
              "\n",
              "/* Serial-specific style estimator block */\n",
              "\n",
              "#sk-container-id-1 div.sk-serial {\n",
              "  display: flex;\n",
              "  flex-direction: column;\n",
              "  align-items: center;\n",
              "  background-color: var(--sklearn-color-background);\n",
              "  padding-right: 1em;\n",
              "  padding-left: 1em;\n",
              "}\n",
              "\n",
              "\n",
              "/* Toggleable style: style used for estimator/Pipeline/ColumnTransformer box that is\n",
              "clickable and can be expanded/collapsed.\n",
              "- Pipeline and ColumnTransformer use this feature and define the default style\n",
              "- Estimators will overwrite some part of the style using the `sk-estimator` class\n",
              "*/\n",
              "\n",
              "/* Pipeline and ColumnTransformer style (default) */\n",
              "\n",
              "#sk-container-id-1 div.sk-toggleable {\n",
              "  /* Default theme specific background. It is overwritten whether we have a\n",
              "  specific estimator or a Pipeline/ColumnTransformer */\n",
              "  background-color: var(--sklearn-color-background);\n",
              "}\n",
              "\n",
              "/* Toggleable label */\n",
              "#sk-container-id-1 label.sk-toggleable__label {\n",
              "  cursor: pointer;\n",
              "  display: block;\n",
              "  width: 100%;\n",
              "  margin-bottom: 0;\n",
              "  padding: 0.5em;\n",
              "  box-sizing: border-box;\n",
              "  text-align: center;\n",
              "}\n",
              "\n",
              "#sk-container-id-1 label.sk-toggleable__label-arrow:before {\n",
              "  /* Arrow on the left of the label */\n",
              "  content: \"▸\";\n",
              "  float: left;\n",
              "  margin-right: 0.25em;\n",
              "  color: var(--sklearn-color-icon);\n",
              "}\n",
              "\n",
              "#sk-container-id-1 label.sk-toggleable__label-arrow:hover:before {\n",
              "  color: var(--sklearn-color-text);\n",
              "}\n",
              "\n",
              "/* Toggleable content - dropdown */\n",
              "\n",
              "#sk-container-id-1 div.sk-toggleable__content {\n",
              "  max-height: 0;\n",
              "  max-width: 0;\n",
              "  overflow: hidden;\n",
              "  text-align: left;\n",
              "  /* unfitted */\n",
              "  background-color: var(--sklearn-color-unfitted-level-0);\n",
              "}\n",
              "\n",
              "#sk-container-id-1 div.sk-toggleable__content.fitted {\n",
              "  /* fitted */\n",
              "  background-color: var(--sklearn-color-fitted-level-0);\n",
              "}\n",
              "\n",
              "#sk-container-id-1 div.sk-toggleable__content pre {\n",
              "  margin: 0.2em;\n",
              "  border-radius: 0.25em;\n",
              "  color: var(--sklearn-color-text);\n",
              "  /* unfitted */\n",
              "  background-color: var(--sklearn-color-unfitted-level-0);\n",
              "}\n",
              "\n",
              "#sk-container-id-1 div.sk-toggleable__content.fitted pre {\n",
              "  /* unfitted */\n",
              "  background-color: var(--sklearn-color-fitted-level-0);\n",
              "}\n",
              "\n",
              "#sk-container-id-1 input.sk-toggleable__control:checked~div.sk-toggleable__content {\n",
              "  /* Expand drop-down */\n",
              "  max-height: 200px;\n",
              "  max-width: 100%;\n",
              "  overflow: auto;\n",
              "}\n",
              "\n",
              "#sk-container-id-1 input.sk-toggleable__control:checked~label.sk-toggleable__label-arrow:before {\n",
              "  content: \"▾\";\n",
              "}\n",
              "\n",
              "/* Pipeline/ColumnTransformer-specific style */\n",
              "\n",
              "#sk-container-id-1 div.sk-label input.sk-toggleable__control:checked~label.sk-toggleable__label {\n",
              "  color: var(--sklearn-color-text);\n",
              "  background-color: var(--sklearn-color-unfitted-level-2);\n",
              "}\n",
              "\n",
              "#sk-container-id-1 div.sk-label.fitted input.sk-toggleable__control:checked~label.sk-toggleable__label {\n",
              "  background-color: var(--sklearn-color-fitted-level-2);\n",
              "}\n",
              "\n",
              "/* Estimator-specific style */\n",
              "\n",
              "/* Colorize estimator box */\n",
              "#sk-container-id-1 div.sk-estimator input.sk-toggleable__control:checked~label.sk-toggleable__label {\n",
              "  /* unfitted */\n",
              "  background-color: var(--sklearn-color-unfitted-level-2);\n",
              "}\n",
              "\n",
              "#sk-container-id-1 div.sk-estimator.fitted input.sk-toggleable__control:checked~label.sk-toggleable__label {\n",
              "  /* fitted */\n",
              "  background-color: var(--sklearn-color-fitted-level-2);\n",
              "}\n",
              "\n",
              "#sk-container-id-1 div.sk-label label.sk-toggleable__label,\n",
              "#sk-container-id-1 div.sk-label label {\n",
              "  /* The background is the default theme color */\n",
              "  color: var(--sklearn-color-text-on-default-background);\n",
              "}\n",
              "\n",
              "/* On hover, darken the color of the background */\n",
              "#sk-container-id-1 div.sk-label:hover label.sk-toggleable__label {\n",
              "  color: var(--sklearn-color-text);\n",
              "  background-color: var(--sklearn-color-unfitted-level-2);\n",
              "}\n",
              "\n",
              "/* Label box, darken color on hover, fitted */\n",
              "#sk-container-id-1 div.sk-label.fitted:hover label.sk-toggleable__label.fitted {\n",
              "  color: var(--sklearn-color-text);\n",
              "  background-color: var(--sklearn-color-fitted-level-2);\n",
              "}\n",
              "\n",
              "/* Estimator label */\n",
              "\n",
              "#sk-container-id-1 div.sk-label label {\n",
              "  font-family: monospace;\n",
              "  font-weight: bold;\n",
              "  display: inline-block;\n",
              "  line-height: 1.2em;\n",
              "}\n",
              "\n",
              "#sk-container-id-1 div.sk-label-container {\n",
              "  text-align: center;\n",
              "}\n",
              "\n",
              "/* Estimator-specific */\n",
              "#sk-container-id-1 div.sk-estimator {\n",
              "  font-family: monospace;\n",
              "  border: 1px dotted var(--sklearn-color-border-box);\n",
              "  border-radius: 0.25em;\n",
              "  box-sizing: border-box;\n",
              "  margin-bottom: 0.5em;\n",
              "  /* unfitted */\n",
              "  background-color: var(--sklearn-color-unfitted-level-0);\n",
              "}\n",
              "\n",
              "#sk-container-id-1 div.sk-estimator.fitted {\n",
              "  /* fitted */\n",
              "  background-color: var(--sklearn-color-fitted-level-0);\n",
              "}\n",
              "\n",
              "/* on hover */\n",
              "#sk-container-id-1 div.sk-estimator:hover {\n",
              "  /* unfitted */\n",
              "  background-color: var(--sklearn-color-unfitted-level-2);\n",
              "}\n",
              "\n",
              "#sk-container-id-1 div.sk-estimator.fitted:hover {\n",
              "  /* fitted */\n",
              "  background-color: var(--sklearn-color-fitted-level-2);\n",
              "}\n",
              "\n",
              "/* Specification for estimator info (e.g. \"i\" and \"?\") */\n",
              "\n",
              "/* Common style for \"i\" and \"?\" */\n",
              "\n",
              ".sk-estimator-doc-link,\n",
              "a:link.sk-estimator-doc-link,\n",
              "a:visited.sk-estimator-doc-link {\n",
              "  float: right;\n",
              "  font-size: smaller;\n",
              "  line-height: 1em;\n",
              "  font-family: monospace;\n",
              "  background-color: var(--sklearn-color-background);\n",
              "  border-radius: 1em;\n",
              "  height: 1em;\n",
              "  width: 1em;\n",
              "  text-decoration: none !important;\n",
              "  margin-left: 1ex;\n",
              "  /* unfitted */\n",
              "  border: var(--sklearn-color-unfitted-level-1) 1pt solid;\n",
              "  color: var(--sklearn-color-unfitted-level-1);\n",
              "}\n",
              "\n",
              ".sk-estimator-doc-link.fitted,\n",
              "a:link.sk-estimator-doc-link.fitted,\n",
              "a:visited.sk-estimator-doc-link.fitted {\n",
              "  /* fitted */\n",
              "  border: var(--sklearn-color-fitted-level-1) 1pt solid;\n",
              "  color: var(--sklearn-color-fitted-level-1);\n",
              "}\n",
              "\n",
              "/* On hover */\n",
              "div.sk-estimator:hover .sk-estimator-doc-link:hover,\n",
              ".sk-estimator-doc-link:hover,\n",
              "div.sk-label-container:hover .sk-estimator-doc-link:hover,\n",
              ".sk-estimator-doc-link:hover {\n",
              "  /* unfitted */\n",
              "  background-color: var(--sklearn-color-unfitted-level-3);\n",
              "  color: var(--sklearn-color-background);\n",
              "  text-decoration: none;\n",
              "}\n",
              "\n",
              "div.sk-estimator.fitted:hover .sk-estimator-doc-link.fitted:hover,\n",
              ".sk-estimator-doc-link.fitted:hover,\n",
              "div.sk-label-container:hover .sk-estimator-doc-link.fitted:hover,\n",
              ".sk-estimator-doc-link.fitted:hover {\n",
              "  /* fitted */\n",
              "  background-color: var(--sklearn-color-fitted-level-3);\n",
              "  color: var(--sklearn-color-background);\n",
              "  text-decoration: none;\n",
              "}\n",
              "\n",
              "/* Span, style for the box shown on hovering the info icon */\n",
              ".sk-estimator-doc-link span {\n",
              "  display: none;\n",
              "  z-index: 9999;\n",
              "  position: relative;\n",
              "  font-weight: normal;\n",
              "  right: .2ex;\n",
              "  padding: .5ex;\n",
              "  margin: .5ex;\n",
              "  width: min-content;\n",
              "  min-width: 20ex;\n",
              "  max-width: 50ex;\n",
              "  color: var(--sklearn-color-text);\n",
              "  box-shadow: 2pt 2pt 4pt #999;\n",
              "  /* unfitted */\n",
              "  background: var(--sklearn-color-unfitted-level-0);\n",
              "  border: .5pt solid var(--sklearn-color-unfitted-level-3);\n",
              "}\n",
              "\n",
              ".sk-estimator-doc-link.fitted span {\n",
              "  /* fitted */\n",
              "  background: var(--sklearn-color-fitted-level-0);\n",
              "  border: var(--sklearn-color-fitted-level-3);\n",
              "}\n",
              "\n",
              ".sk-estimator-doc-link:hover span {\n",
              "  display: block;\n",
              "}\n",
              "\n",
              "/* \"?\"-specific style due to the `<a>` HTML tag */\n",
              "\n",
              "#sk-container-id-1 a.estimator_doc_link {\n",
              "  float: right;\n",
              "  font-size: 1rem;\n",
              "  line-height: 1em;\n",
              "  font-family: monospace;\n",
              "  background-color: var(--sklearn-color-background);\n",
              "  border-radius: 1rem;\n",
              "  height: 1rem;\n",
              "  width: 1rem;\n",
              "  text-decoration: none;\n",
              "  /* unfitted */\n",
              "  color: var(--sklearn-color-unfitted-level-1);\n",
              "  border: var(--sklearn-color-unfitted-level-1) 1pt solid;\n",
              "}\n",
              "\n",
              "#sk-container-id-1 a.estimator_doc_link.fitted {\n",
              "  /* fitted */\n",
              "  border: var(--sklearn-color-fitted-level-1) 1pt solid;\n",
              "  color: var(--sklearn-color-fitted-level-1);\n",
              "}\n",
              "\n",
              "/* On hover */\n",
              "#sk-container-id-1 a.estimator_doc_link:hover {\n",
              "  /* unfitted */\n",
              "  background-color: var(--sklearn-color-unfitted-level-3);\n",
              "  color: var(--sklearn-color-background);\n",
              "  text-decoration: none;\n",
              "}\n",
              "\n",
              "#sk-container-id-1 a.estimator_doc_link.fitted:hover {\n",
              "  /* fitted */\n",
              "  background-color: var(--sklearn-color-fitted-level-3);\n",
              "}\n",
              "</style><div id=\"sk-container-id-1\" class=\"sk-top-container\"><div class=\"sk-text-repr-fallback\"><pre>LogisticRegression(max_iter=200)</pre><b>In a Jupyter environment, please rerun this cell to show the HTML representation or trust the notebook. <br />On GitHub, the HTML representation is unable to render, please try loading this page with nbviewer.org.</b></div><div class=\"sk-container\" hidden><div class=\"sk-item\"><div class=\"sk-estimator fitted sk-toggleable\"><input class=\"sk-toggleable__control sk-hidden--visually\" id=\"sk-estimator-id-1\" type=\"checkbox\" checked><label for=\"sk-estimator-id-1\" class=\"sk-toggleable__label fitted sk-toggleable__label-arrow fitted\">&nbsp;&nbsp;LogisticRegression<a class=\"sk-estimator-doc-link fitted\" rel=\"noreferrer\" target=\"_blank\" href=\"https://scikit-learn.org/1.4/modules/generated/sklearn.linear_model.LogisticRegression.html\">?<span>Documentation for LogisticRegression</span></a><span class=\"sk-estimator-doc-link fitted\">i<span>Fitted</span></span></label><div class=\"sk-toggleable__content fitted\"><pre>LogisticRegression(max_iter=200)</pre></div> </div></div></div></div>"
            ]
          },
          "metadata": {},
          "execution_count": 14
        }
      ]
    },
    {
      "cell_type": "markdown",
      "source": [
        "\n",
        ">Aplica-se um modelo de Regressão Logística para ser treinado com todo o conjunto de dados, sem dividir em conjuntos de treino e teste. O StandardScaler é ajustado com todo o conjunto de dados (X), calculando a média e o desvio padrão de cada característica no conjunto completo. O modelo de Regressão Logística é treinado com os dados padronizados (rescaledX) e os rótulos de classe (y), usando todo o conjunto de dados para o treinamento.\n",
        "\n",
        ">O resultado do treinamento é um modelo de Regressão Logística que foi ajustado ao conjunto de dados completo (todo o dataset). Isso pode resultar em um modelo que se adapta muito bem aos dados disponíveis, no entanto, é avaliar seu desempenho em dados não vistos para verificar se ele generaliza bem.\n",
        "---"
      ],
      "metadata": {
        "id": "HPlXngBNmOli"
      }
    },
    {
      "cell_type": "code",
      "source": [
        "# Novos dados - não sabemos a classe!\n",
        "data = {'radius':  [18.25, 17.75, 18.05],\n",
        "        'texture': [10.20, 10.45, 10.30],\n",
        "        'perimeter': [123.5, 121.9, 123.0],\n",
        "        'area': [995.0, 1010.0, 1005.0],\n",
        "        'smoothness': [0.1200, 0.1150, 0.1220],\n",
        "        'compactness': [0.2800, 0.2750, 0.2790],\n",
        "        'concavity': [0.3050, 0.2980, 0.3020],\n",
        "        'concave': [0.1450, 0.1500, 0.1420],\n",
        "        'symmetry': [0.2400, 0.2450, 0.2390],\n",
        "        'fractal': [0.0800, 0.0750, 0.0790],\n",
        "        'radius error': [1.100, 1.090, 1.105],\n",
        "        'texture error': [0.9100, 0.9000, 0.9150],\n",
        "        'perimeter error': [8.600, 8.580, 8.595],\n",
        "        'area error': [154.0, 152.5, 153.0],\n",
        "        'smoothness error': [0.006420, 0.006380, 0.006410],\n",
        "        'compactness error': [0.04910, 0.04890, 0.04900],\n",
        "        'concavity error': [0.05380, 0.05360, 0.05370],\n",
        "        'points error': [0.01590, 0.01580, 0.01585],\n",
        "        'symmetry error': [0.03010, 0.02990, 0.03000],\n",
        "        'dimension error': [0.006200, 0.006180, 0.006190],\n",
        "        'worst radius': [30.123, 7.890, 12.345],\n",
        "        'worst texture': [17.25, 17.40, 17.30],\n",
        "        'worst perimeter': [185.00, 184.40, 184.80],\n",
        "        'worst area': [2020.0, 2018.0, 2021.0],\n",
        "        'worst smoothness': [0.16200, 0.16230, 0.16210],\n",
        "        'worst compactness': [0.66500, 0.66600, 0.66400],\n",
        "        'worst concavity': [0.7120, 0.7118, 0.7122],\n",
        "        'worst concave': [0.2650, 0.2655, 0.2653],\n",
        "        'worst symmetry': [0.4600, 0.4602, 0.4599],\n",
        "        'worst fractal': [0.1190, 0.1188, 0.1191]\n",
        "        }\n",
        "\n",
        "atributos = ['radius', 'texture', 'perimeter', 'area', 'smoothness',\n",
        "             'compactness', 'concavity', 'concave', 'symmetry', 'fractal',\n",
        "             'radius error', 'texture error', 'perimeter error', 'area error',\n",
        "             'smoothness error', 'compactness error', 'concavity error',\n",
        "             'points error', 'symmetry error', 'dimension error',\n",
        "             'worst radius', 'worst texture', 'worst perimeter', 'worst area',\n",
        "             'worst smoothness', 'worst compactness', 'worst concavity',\n",
        "             'worst concave', 'worst symmetry', 'worst fractal']\n",
        "\n",
        "entrada = pd.DataFrame(data, columns=atributos)\n",
        "\n",
        "array_entrada = entrada.values\n",
        "X_entrada = array_entrada[:,0:30].astype(float)\n",
        "\n",
        "# Padronização nos dados de entrada usando o scaler utilizado em X\n",
        "rescaledEntradaX = scaler.transform(X_entrada)\n",
        "print(rescaledEntradaX)"
      ],
      "metadata": {
        "colab": {
          "base_uri": "https://localhost:8080/"
        },
        "id": "5mj0U3p6RHcn",
        "outputId": "3a74219c-7781-46ab-9d83-73a3bacd8ae6"
      },
      "execution_count": 15,
      "outputs": [
        {
          "output_type": "stream",
          "name": "stdout",
          "text": [
            "[[ 1.17090767 -2.11522222  1.29876683  0.96731029  1.68233104  3.32899822\n",
            "   2.71439334  2.47830785  2.14814708  2.43861781  2.50777998 -0.55673764\n",
            "   2.8384762   2.50077858 -0.20700136  1.32021494  0.72634715  0.66568623\n",
            "   1.15723216  0.90973084  2.86888206 -1.37232098  2.31551496  2.0029954\n",
            "   1.29891909  2.61284819  2.1100061   2.28998549  2.74900446  1.94255619]\n",
            " [ 1.02890057 -2.05704554  1.23286251  1.00997183  1.32650383  3.23424082\n",
            "   2.62650854  2.60727777  2.33069425  1.72981578  2.47168788 -0.57488108\n",
            "   2.82857559  2.46777602 -0.22033524  1.30903703  0.71971575  0.64946526\n",
            "   1.13301646  0.90216581 -1.73518382 -1.34789441  2.29764346  1.99947958\n",
            "   1.31206986  2.61920958  2.10904659  2.29759879  2.75224002  1.93147303]\n",
            " [ 1.11410483 -2.09195155  1.27817173  0.99575132  1.82466192  3.31004674\n",
            "   2.67672843  2.40092591  2.11163765  2.2968574   2.52582603 -0.54766592\n",
            "   2.83600105  2.47877687 -0.21033483  1.31462599  0.72303145  0.65757575\n",
            "   1.14512431  0.90594833 -0.81263115 -1.36417879  2.30955779  2.00475331\n",
            "   1.30330268  2.60648679  2.1109656   2.29455347  2.74738668  1.94809778]]\n"
          ]
        }
      ]
    },
    {
      "cell_type": "code",
      "source": [
        "# Predição de classes dos dados de entrada\n",
        "saidas = model.predict(rescaledEntradaX)\n",
        "print(saidas)"
      ],
      "metadata": {
        "colab": {
          "base_uri": "https://localhost:8080/"
        },
        "id": "ymPqRkZLkTZj",
        "outputId": "6c251047-5aea-48e2-9501-296ae3f01823"
      },
      "execution_count": 16,
      "outputs": [
        {
          "output_type": "stream",
          "name": "stdout",
          "text": [
            "[0. 0. 0.]\n"
          ]
        }
      ]
    },
    {
      "cell_type": "markdown",
      "source": [
        "\n",
        ">O resultado indica as classes previstas para os dados novos de entrada. No contexto de classificação de amostras de tumores, o valor 0 representa a classe \"benigno\", enquanto o valor 1 representa \"maligno\". Neste caso, todas as três previsões dos dados novos foram para a classe 0, indicando que os dados de entrada adicionados nesta avaliação foram classificados como tumores benignos.\n",
        "---"
      ],
      "metadata": {
        "id": "ixqoBwlPrOtu"
      }
    },
    {
      "cell_type": "markdown",
      "source": [
        "# **3. APLICANDO FEATURE SELECTION NO DATASET**"
      ],
      "metadata": {
        "id": "74XokdgZqzxo"
      }
    },
    {
      "cell_type": "markdown",
      "source": [
        "---\n",
        ">O feature selection é o processo de selecionar um subconjunto relevante de variáveis (features) a partir de um conjunto de dados original (dataset). A finalidade principal do feature selection é melhorar o desempenho dos modelos de machine learning, reduzindo o overfitting, aumentando a acurácia e a interpretabilidade do modelo, e reduzindo o tempo de treinamento.\n",
        "\n",
        ">Ao remover features irrelevantes, redundantes ou que causem ruído nos dados, o feature selection simplifica o modelo, tornando-o mais fácil de interpretar e mais eficiente computacionalmente. Esta técnica é aplicável em conjuntos de dados com muitas variáveis, onde nem todas as variáveis contribuem igualmente para a predição do modelo.\n",
        "---"
      ],
      "metadata": {
        "id": "hTQ_HhCHrBcs"
      }
    },
    {
      "cell_type": "code",
      "source": [
        "# Verificando as classes presentes em 'target'\n",
        "classes = dataset['target'].unique()\n",
        "print(\"Classes presentes em 'target':\", classes)"
      ],
      "metadata": {
        "id": "ZHYhHuJfrBEm",
        "colab": {
          "base_uri": "https://localhost:8080/"
        },
        "outputId": "64df1d23-9e14-4689-fad1-b45e59a8a083"
      },
      "execution_count": 17,
      "outputs": [
        {
          "output_type": "stream",
          "name": "stdout",
          "text": [
            "Classes presentes em 'target': [0 1]\n"
          ]
        }
      ]
    },
    {
      "cell_type": "code",
      "source": [
        "# Seleção de atributos com SelectKBest\n",
        "best_var = SelectKBest(score_func=f_classif, k=10)\n",
        "\n",
        "# Executa a função de pontuação em (X, y) e obtém os atributos selecionados\n",
        "fit = best_var.fit(X, y)\n",
        "\n",
        "# Reduz X para os atributos selecionados\n",
        "features = fit.transform(X)\n",
        "\n",
        "# Resultados\n",
        "print('\\nNúmero original de atributos:', X.shape[1])\n",
        "print('\\nNúmero reduzido de atributos:', features.shape[1])\n",
        "\n",
        "# Exibe os atributos orginais\n",
        "print(\"\\nAtributos Originais:\", dataset.columns[0:30])\n",
        "\n",
        "# Exibe as pontuações de cada atributos e os 4 escolhidas (com as pontuações mais altas)\n",
        "\n",
        "# 3 casas decimais\n",
        "np.set_printoptions(precision=3)\n",
        "print(\"\\nScores dos Atributos Originais:\", fit.scores_)\n",
        "print(\"\\nAtributos Selecionados:\", best_var.get_feature_names_out(input_features=dataset.columns[0:30]))"
      ],
      "metadata": {
        "id": "2NgW4TZorCT6",
        "colab": {
          "base_uri": "https://localhost:8080/"
        },
        "outputId": "1f34b6c1-4836-4840-f5b1-6dc60b193409"
      },
      "execution_count": 18,
      "outputs": [
        {
          "output_type": "stream",
          "name": "stdout",
          "text": [
            "\n",
            "Número original de atributos: 30\n",
            "\n",
            "Número reduzido de atributos: 10\n",
            "\n",
            "Atributos Originais: Index(['mean radius', 'mean texture', 'mean perimeter', 'mean area',\n",
            "       'mean smoothness', 'mean compactness', 'mean concavity',\n",
            "       'mean concave points', 'mean symmetry', 'mean fractal dimension',\n",
            "       'radius error', 'texture error', 'perimeter error', 'area error',\n",
            "       'smoothness error', 'compactness error', 'concavity error',\n",
            "       'concave points error', 'symmetry error', 'fractal dimension error',\n",
            "       'worst radius', 'worst texture', 'worst perimeter', 'worst area',\n",
            "       'worst smoothness', 'worst compactness', 'worst concavity',\n",
            "       'worst concave points', 'worst symmetry', 'worst fractal dimension'],\n",
            "      dtype='object')\n",
            "\n",
            "Scores dos Atributos Originais: [6.470e+02 1.181e+02 6.972e+02 5.731e+02 8.365e+01 3.132e+02 5.338e+02\n",
            " 8.617e+02 6.953e+01 9.346e-02 2.688e+02 3.909e-02 2.539e+02 2.437e+02\n",
            " 2.558e+00 5.325e+01 3.901e+01 1.133e+02 2.412e-02 3.468e+00 8.608e+02\n",
            " 1.496e+02 8.979e+02 6.616e+02 1.225e+02 3.043e+02 4.367e+02 9.644e+02\n",
            " 1.189e+02 6.644e+01]\n",
            "\n",
            "Atributos Selecionados: ['mean radius' 'mean perimeter' 'mean area' 'mean concavity'\n",
            " 'mean concave points' 'worst radius' 'worst perimeter' 'worst area'\n",
            " 'worst concavity' 'worst concave points']\n"
          ]
        }
      ]
    },
    {
      "cell_type": "markdown",
      "source": [
        "\n",
        ">O resultado mostra que o número original de atributos é 30, mas após a seleção, o número reduzido de atributos é 10. Os atributos selecionados são listados como 'mean radius', 'mean perimeter', 'mean area', 'mean concavity', 'mean concave points', 'worst radius', 'worst perimeter', 'worst area', 'worst concavity' e 'worst concave points', os quais têm as pontuações mais altas de acordo com o método de seleção. Essa abordagem é útil para simplificar modelos e manter apenas os atributos mais importantes para a predição.\n",
        "---"
      ],
      "metadata": {
        "id": "b5mw_Qif5emR"
      }
    },
    {
      "cell_type": "code",
      "source": [
        "# Eliminação Recursiva de Atributos\n",
        "# Criação do modelo\n",
        "modelo = LogisticRegression(max_iter=200)\n",
        "\n",
        "# Eliminação Recursiva de Atributos\n",
        "rfe = RFE(modelo, n_features_to_select=10)\n",
        "fit = rfe.fit(X, y)\n",
        "\n",
        "# Print dos resultados\n",
        "print(\"Atributos Originais:\", dataset.columns[0:30])\n",
        "\n",
        "# Exibe os atributos selecionados (marcados como True em \"Atributos Selecionados\"\n",
        "# e com valor 1 em \"Ranking dos Atributos\")\n",
        "print(\"\\nAtributos Selecionados: %s\" % fit.support_)\n",
        "print(\"\\nRanking de atributos: %s\" % fit.ranking_)\n",
        "print(\"\\nQtd de melhores Atributos: %d\" % fit.n_features_)\n",
        "print(\"\\nNomes dos Atributos Selecionados: %s\" % fit.get_feature_names_out(input_features=dataset.columns[0:30]))"
      ],
      "metadata": {
        "id": "lsUOgjQirCL2",
        "colab": {
          "base_uri": "https://localhost:8080/"
        },
        "outputId": "273ddf7a-0cda-49d2-bf26-b6aa314b19bb"
      },
      "execution_count": 19,
      "outputs": [
        {
          "output_type": "stream",
          "name": "stdout",
          "text": [
            "Atributos Originais: Index(['mean radius', 'mean texture', 'mean perimeter', 'mean area',\n",
            "       'mean smoothness', 'mean compactness', 'mean concavity',\n",
            "       'mean concave points', 'mean symmetry', 'mean fractal dimension',\n",
            "       'radius error', 'texture error', 'perimeter error', 'area error',\n",
            "       'smoothness error', 'compactness error', 'concavity error',\n",
            "       'concave points error', 'symmetry error', 'fractal dimension error',\n",
            "       'worst radius', 'worst texture', 'worst perimeter', 'worst area',\n",
            "       'worst smoothness', 'worst compactness', 'worst concavity',\n",
            "       'worst concave points', 'worst symmetry', 'worst fractal dimension'],\n",
            "      dtype='object')\n",
            "\n",
            "Atributos Selecionados: [ True False False False False False  True  True  True False False False\n",
            "  True False False False False False False False False False False False\n",
            "  True  True  True  True  True False]\n",
            "\n",
            "Ranking de atributos: [ 1  6 12 21 10  5  1  1  1 17  8  2  1  7 18 20  9 11 15 19 14  3  4 16\n",
            "  1  1  1  1  1 13]\n",
            "\n",
            "Qtd de melhores Atributos: 10\n",
            "\n",
            "Nomes dos Atributos Selecionados: ['mean radius' 'mean concavity' 'mean concave points' 'mean symmetry'\n",
            " 'perimeter error' 'worst smoothness' 'worst compactness'\n",
            " 'worst concavity' 'worst concave points' 'worst symmetry']\n"
          ]
        }
      ]
    },
    {
      "cell_type": "markdown",
      "source": [
        "\n",
        ">O resultado mostra que dos 30 atributos originais, os atributos selecionados são 'mean radius', 'mean concavity', 'mean concave points', 'mean symmetry', 'perimeter error', 'worst smoothness', 'worst compactness', 'worst concavity', 'worst concave points' e 'worst symmetry'. Esses atributos foram marcados como True em \"Atributos Selecionados\" e têm valor 1 em \"Ranking de atributos\", indicando que foram classificados como os mais importantes pelo RFE. O parâmetro n_features_to_select foi definido como 10, então o modelo selecionou os 10 melhores atributos.\n",
        "---"
      ],
      "metadata": {
        "id": "3xoXVfF868GW"
      }
    },
    {
      "cell_type": "code",
      "source": [
        "# Importância de Atributos com ExtraTrees\n",
        "# Criação do modelo para seleção de atributos\n",
        "modelo = ExtraTreesClassifier(n_estimators=100)\n",
        "modelo.fit(X,y)\n",
        "\n",
        "# Exibe os atributos orginais\n",
        "print(\"\\nAtributos Originais:\", dataset.columns[0:30])\n",
        "\n",
        "# Exibe a pontuação de importância para cada atributo (quanto maior a pontuação, mais importante é o atributo).\n",
        "print(modelo.feature_importances_)"
      ],
      "metadata": {
        "colab": {
          "base_uri": "https://localhost:8080/"
        },
        "id": "HOl_K8-suL2s",
        "outputId": "3c3f30e8-b6ba-44d2-8e31-9c82376cc146"
      },
      "execution_count": 20,
      "outputs": [
        {
          "output_type": "stream",
          "name": "stdout",
          "text": [
            "\n",
            "Atributos Originais: Index(['mean radius', 'mean texture', 'mean perimeter', 'mean area',\n",
            "       'mean smoothness', 'mean compactness', 'mean concavity',\n",
            "       'mean concave points', 'mean symmetry', 'mean fractal dimension',\n",
            "       'radius error', 'texture error', 'perimeter error', 'area error',\n",
            "       'smoothness error', 'compactness error', 'concavity error',\n",
            "       'concave points error', 'symmetry error', 'fractal dimension error',\n",
            "       'worst radius', 'worst texture', 'worst perimeter', 'worst area',\n",
            "       'worst smoothness', 'worst compactness', 'worst concavity',\n",
            "       'worst concave points', 'worst symmetry', 'worst fractal dimension'],\n",
            "      dtype='object')\n",
            "[0.065 0.019 0.063 0.068 0.008 0.025 0.058 0.064 0.007 0.006 0.027 0.006\n",
            " 0.014 0.04  0.006 0.008 0.012 0.007 0.006 0.007 0.088 0.024 0.076 0.084\n",
            " 0.018 0.025 0.051 0.093 0.017 0.008]\n"
          ]
        }
      ]
    },
    {
      "cell_type": "markdown",
      "source": [
        "\n",
        "> Os valores representam a importância de cada atributo para o modelo ExtraTreesClassifier. Quanto maior o valor, mais importante é o atributo. Esses valores são calculados com base em como cada atributo contribui para a redução da impureza nas árvores de decisão do modelo. Por exemplo, um valor de 0.065 para 'mean radius' significa que 'mean radius' é responsável por 6.5% da decisão feita pelo modelo ExtraTreesClassifier.\n",
        "---"
      ],
      "metadata": {
        "id": "Nhc1deGA7hLJ"
      }
    },
    {
      "cell_type": "markdown",
      "source": [
        "# **4. CONSIDERAÇÕES FINAIS**"
      ],
      "metadata": {
        "id": "yuX7j1IzvgA_"
      }
    },
    {
      "cell_type": "markdown",
      "source": [
        "---\n",
        ">Este projeto se propõe a treina e avaliar diferentes modelos de machine learging para um problema de classificação de um dataset de amostras de tecido de câncer de mama. O retorno esperado da predição é acusar se a amostra em questão se trata de um tumor benígno (valor 0) ou malígno (valor 1).\n",
        "\n",
        ">Através do treinamento de modelos com as configurações padrões da biblioteca do scikit-learn, obteve-se a melhor acurácia na classificação com o método do Naive Bayes, com 95,61% de acurácia na predição das classes das amostras de tecido.\n",
        "\n",
        ">A aplicação de recursos avançados de machine learning com as técnicas de ensembles e pipelines sugere que os melhores modelos de classicação são AdaBoost e Regressão Logística, respectivamente. Sendo uma acurácia de 96,47% do primeiro, e 97,10% do segundo, na predição de classe benígno ou malígno de tecido de câncer de mama.\n",
        "\n",
        ">Foram testados os ajustes de hiperparâmetros de três modelos de classificação que apresentaram melhor acurácia em um pipeline. Os resultados foram obtidos através da validação cruzada em três cenários: sem tratamento especial dos dados, com padronização e com normalização dos dados.\n",
        "\n",
        ">O modelo de Regressão Logística foi o que melhor se ajustou aos hiperparâmetros. Para o dataset em questão, a melhor performance foi obtida com a padronização ou normalização dos dados, utilizando diferentes conjuntos de hiperparâmetros.\n",
        "\n",
        ">O feature selection é o processo de escolher um subconjunto relevante de variáveis de um conjunto de dados original. O objetivo é melhorar o desempenho dos modelos de machine learning, reduzindo o overfitting, aumentando a acurácia e a interpretabilidade do modelo, e diminuindo o tempo de treinamento. Ao remover features irrelevantes, redundantes ou que causam ruído, o feature selection simplifica o modelo, tornando-o mais fácil de interpretar e mais eficiente computacionalmente. É útil em conjuntos de dados com muitas variáveis, onde nem todas contribuem igualmente para a predição.\n",
        "\n",
        ">A partir do dataset original com 30 atributos, o feature selection pode reduzir esse número para 10, selecionando os atributos mais importantes, como 'mean radius', 'mean perimeter', 'mean area', 'mean concavity', 'mean concave points', 'worst radius', 'worst perimeter', 'worst area', 'worst concavity' e 'worst concave points', que têm as pontuações mais altas de acordo com o método de seleção. Isso simplifica o modelo e mantém apenas os atributos mais relevantes.\n",
        "---\n"
      ],
      "metadata": {
        "id": "SsGy3URPvkcq"
      }
    }
  ]
}