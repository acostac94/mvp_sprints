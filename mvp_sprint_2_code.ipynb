{
 "cells": [
  {
   "cell_type": "markdown",
   "metadata": {
    "application/vnd.databricks.v1+cell": {
     "cellMetadata": {},
     "inputWidgets": {},
     "nuid": "102fb7e0-2c13-4f18-9e99-ebaa5e1fdb6b",
     "showTitle": false,
     "title": ""
    }
   },
   "source": [
    "#### OBJETIVO\n",
    "\n",
    "O objetivo deste trabalho é construir um pipeline de dados utilizando tecnologias na nuvem para analisar dados do censo populacional fornecidos pelo IBGE. O pipeline será capaz de buscar, coletar, modelar, carregar e analisar esses dados para fornecer insights sobre a demografia e outras características da população brasileira."
   ]
  },
  {
   "cell_type": "markdown",
   "metadata": {
    "application/vnd.databricks.v1+cell": {
     "cellMetadata": {},
     "inputWidgets": {},
     "nuid": "724211f2-5d55-4740-a80f-ab1b1bfce0f5",
     "showTitle": false,
     "title": ""
    }
   },
   "source": [
    "#### PERGUNTAS A SEREM RESPONDIDAS\n",
    "\n",
    "##### Qual é a distribuição populacional por estado e município?\n",
    "\n",
    "Determinar a quantidade de habitantes em diferentes regiões do Brasil.\n",
    "\n",
    "##### Qual é a composição etária da população?\n",
    "\n",
    "Analisar a distribuição etária e identificar tendências de envelhecimento ou rejuvenescimento da população.\n",
    "\n",
    "##### Quais são as taxas de alfabetização e escolaridade?\n",
    "\n",
    "Avaliar os níveis de alfabetização e educação em diferentes regiões.\n",
    "\n",
    "##### Qual é a distribuição de renda da população?\n",
    "\n",
    "Analisar a distribuição de renda e identificar disparidades econômicas."
   ]
  },
  {
   "cell_type": "markdown",
   "metadata": {
    "application/vnd.databricks.v1+cell": {
     "cellMetadata": {},
     "inputWidgets": {},
     "nuid": "3f7c22c7-06a7-4667-987d-67458cd704b6",
     "showTitle": false,
     "title": ""
    }
   },
   "source": [
    "#### LEITURA E PROCESSAMENTO DA BASE DE DADOS"
   ]
  },
  {
   "cell_type": "code",
   "execution_count": 0,
   "metadata": {
    "application/vnd.databricks.v1+cell": {
     "cellMetadata": {
      "byteLimit": 2048000,
      "rowLimit": 10000
     },
     "inputWidgets": {},
     "nuid": "9bac7404-959f-469f-93a5-286cb2b16fb2",
     "showTitle": false,
     "title": ""
    }
   },
   "outputs": [
    {
     "output_type": "stream",
     "name": "stdout",
     "output_type": "stream",
     "text": [
      "root\n |-- UF: integer (nullable = true)\n |-- Sexo: integer (nullable = true)\n |-- Idade: integer (nullable = true)\n |-- Cor: integer (nullable = true)\n |-- Anos de Estudo: integer (nullable = true)\n |-- Renda: integer (nullable = true)\n |-- Altura: double (nullable = true)\n\n+---+----+-----+---+--------------+-----+-----------+\n| UF|Sexo|Idade|Cor|Anos de Estudo|Renda|     Altura|\n+---+----+-----+---+--------------+-----+-----------+\n| 11|   0|   23|  8|            12|  800|1.603807616|\n| 11|   1|   23|  2|            12| 1150|1.739789827|\n| 11|   1|   35|  8|            15|  880|1.760443822|\n| 11|   0|   46|  2|             6| 3500|1.783157945|\n| 11|   1|   47|  8|             9|  150|1.690630954|\n| 11|   1|   34|  8|            12|  790|1.637905598|\n| 11|   0|   57|  8|            12| 3150|1.570078218|\n| 11|   1|   60|  8|            12| 1700|1.608495442|\n| 11|   1|   50|  4|            14| 1800|1.780328883|\n| 11|   0|   26|  8|            12| 1150|1.793202625|\n| 11|   1|   46|  8|            12| 3000|1.787003282|\n| 11|   1|   49|  8|             6| 2500|1.712911548|\n| 11|   1|   52|  2|             6| 1200|1.736442076|\n| 11|   0|   38|  8|            12| 2000|1.750826666|\n| 11|   0|   45|  2|            12| 2000|1.780450392|\n| 11|   0|   34|  2|            16| 6000|1.711825037|\n| 11|   1|   43|  8|            10| 1050|1.789011804|\n| 11|   0|   53|  8|            16| 7000|1.673665133|\n| 11|   0|   57|  2|            12| 2000|1.715137632|\n| 11|   1|   62|  8|            12| 1150| 1.76597309|\n+---+----+-----+---+--------------+-----+-----------+\nonly showing top 20 rows\n\n"
     ]
    }
   ],
   "source": [
    "from pyspark.sql import SparkSession\n",
    "from pyspark.sql.functions import col\n",
    "\n",
    "# Criação de uma SparkSession\n",
    "spark = SparkSession.builder \\\n",
    "    .appName(\"IBGE Census Data Analysis\") \\\n",
    "    .getOrCreate()\n",
    "\n",
    "# Caminho do arquivo após o upload para o Databricks\n",
    "file_path = \"/FileStore/tables/dados.csv\"\n",
    "\n",
    "# Leitura dos dados do arquivo CSV\n",
    "df = spark.read.format(\"csv\") \\\n",
    "    .option(\"header\", \"true\") \\\n",
    "    .option(\"inferSchema\", \"true\") \\\n",
    "    .load(file_path)\n",
    "\n",
    "# Limpeza de dados: Remoção de nulos e duplicatas\n",
    "df_cleaned = df.dropna().dropDuplicates()\n",
    "\n",
    "# Criação da tabela temporária\n",
    "df_cleaned.createOrReplaceTempView(\"census_data\")\n",
    "\n",
    "# Exibir o esquema do DataFrame para entender as colunas disponíveis\n",
    "df.printSchema()\n",
    "\n",
    "# Exibir as primeiras linhas do DataFrame\n",
    "df.show()\n"
   ]
  },
  {
   "cell_type": "markdown",
   "metadata": {
    "application/vnd.databricks.v1+cell": {
     "cellMetadata": {},
     "inputWidgets": {},
     "nuid": "2a2f307f-a92a-4798-9a26-fe4234133a54",
     "showTitle": false,
     "title": ""
    }
   },
   "source": [
    "#### CATÁLOGO DOS DADOS"
   ]
  },
  {
   "cell_type": "code",
   "execution_count": 0,
   "metadata": {
    "application/vnd.databricks.v1+cell": {
     "cellMetadata": {
      "byteLimit": 2048000,
      "rowLimit": 10000
     },
     "inputWidgets": {},
     "nuid": "35ae8827-e6d5-42e0-9dd9-dacf63d0ed91",
     "showTitle": false,
     "title": ""
    }
   },
   "outputs": [
    {
     "output_type": "stream",
     "name": "stdout",
     "output_type": "stream",
     "text": [
      "{\n    \"UF\": {\n        \"description\": \"Unidade Federativa\",\n        \"categories\": [\n            31,\n            53,\n            28,\n            26,\n            27,\n            12,\n            22,\n            52,\n            13,\n            16,\n            41,\n            15,\n            43,\n            17,\n            35,\n            23,\n            51,\n            50,\n            25,\n            24,\n            29,\n            21,\n            32,\n            11,\n            33,\n            14,\n            42\n        ]\n    },\n    \"Sexo\": {\n        \"description\": \"Sexo da pessoa\",\n        \"categories\": [\n            1,\n            0\n        ]\n    },\n    \"Idade\": {\n        \"description\": \"Idade da pessoa\",\n        \"min_value\": 13,\n        \"max_value\": 99\n    },\n    \"Cor\": {\n        \"description\": \"Cor/ra\\u00e7a da pessoa\",\n        \"categories\": [\n            6,\n            4,\n            8,\n            2,\n            0\n        ]\n    },\n    \"Anos de Estudo\": {\n        \"description\": \"N\\u00famero de anos de estudo\",\n        \"min_value\": 1,\n        \"max_value\": 17\n    },\n    \"Renda\": {\n        \"description\": \"Renda da pessoa\",\n        \"min_value\": 0,\n        \"max_value\": 200000\n    },\n    \"Altura\": {\n        \"description\": \"Altura da pessoa\",\n        \"min_value\": 1.339244614,\n        \"max_value\": 2.028496765\n    }\n}\n"
     ]
    }
   ],
   "source": [
    "# Descrição detalhada dos dados\n",
    "catalog = {\n",
    "    \"UF\": {\n",
    "        \"description\": \"Unidade Federativa\",\n",
    "        \"categories\": df.select(\"UF\").distinct().rdd.flatMap(lambda x: x).collect()\n",
    "    },\n",
    "    \"Sexo\": {\n",
    "        \"description\": \"Sexo da pessoa\",\n",
    "        \"categories\": df.select(\"Sexo\").distinct().rdd.flatMap(lambda x: x).collect()\n",
    "    },\n",
    "    \"Idade\": {\n",
    "        \"description\": \"Idade da pessoa\",\n",
    "        \"min_value\": df.agg({\"Idade\": \"min\"}).collect()[0][0],\n",
    "        \"max_value\": df.agg({\"Idade\": \"max\"}).collect()[0][0]\n",
    "    },\n",
    "    \"Cor\": {\n",
    "        \"description\": \"Cor/raça da pessoa\",\n",
    "        \"categories\": df.select(\"Cor\").distinct().rdd.flatMap(lambda x: x).collect()\n",
    "    },\n",
    "    \"Anos de Estudo\": {\n",
    "        \"description\": \"Número de anos de estudo\",\n",
    "        \"min_value\": df.agg({\"Anos de Estudo\": \"min\"}).collect()[0][0],\n",
    "        \"max_value\": df.agg({\"Anos de Estudo\": \"max\"}).collect()[0][0]\n",
    "    },\n",
    "    \"Renda\": {\n",
    "        \"description\": \"Renda da pessoa\",\n",
    "        \"min_value\": df.agg({\"Renda\": \"min\"}).collect()[0][0],\n",
    "        \"max_value\": df.agg({\"Renda\": \"max\"}).collect()[0][0]\n",
    "    },\n",
    "    \"Altura\": {\n",
    "        \"description\": \"Altura da pessoa\",\n",
    "        \"min_value\": df.agg({\"Altura\": \"min\"}).collect()[0][0],\n",
    "        \"max_value\": df.agg({\"Altura\": \"max\"}).collect()[0][0]\n",
    "    }\n",
    "}\n",
    "\n",
    "# Exibindo o catálogo de dados\n",
    "import json\n",
    "print(json.dumps(catalog, indent=4))\n"
   ]
  },
  {
   "cell_type": "markdown",
   "metadata": {
    "application/vnd.databricks.v1+cell": {
     "cellMetadata": {},
     "inputWidgets": {},
     "nuid": "16f20699-e8aa-49a3-bfd7-d1095b6389f3",
     "showTitle": false,
     "title": ""
    }
   },
   "source": [
    "#### LINHAGEM DOS DADOS"
   ]
  },
  {
   "cell_type": "code",
   "execution_count": 0,
   "metadata": {
    "application/vnd.databricks.v1+cell": {
     "cellMetadata": {
      "byteLimit": 2048000,
      "rowLimit": 10000
     },
     "inputWidgets": {},
     "nuid": "36cf6cf2-d8a9-4f37-9d42-1c78018cdbb2",
     "showTitle": false,
     "title": ""
    }
   },
   "outputs": [
    {
     "output_type": "stream",
     "name": "stdout",
     "output_type": "stream",
     "text": [
      "{\n    \"data_source\": \"IBGE\",\n    \"data_url\": \"https://www.ibge.gov.br\",\n    \"techniques_used\": [\n        \"Download de dados CSV\",\n        \"Leitura e processamento com PySpark\",\n        \"Limpeza de dados (remo\\u00e7\\u00e3o de nulos e duplicatas)\"\n    ]\n}\n"
     ]
    }
   ],
   "source": [
    "data_lineage = {\n",
    "    \"data_source\": \"IBGE\",\n",
    "    \"data_url\": \"https://www.ibge.gov.br\",\n",
    "    \"techniques_used\": [\n",
    "        \"Download de dados CSV\",\n",
    "        \"Leitura e processamento com PySpark\",\n",
    "        \"Limpeza de dados (remoção de nulos e duplicatas)\"\n",
    "    ]\n",
    "}\n",
    "\n",
    "# Exibindo a linhagem dos dados\n",
    "print(json.dumps(data_lineage, indent=4))\n"
   ]
  },
  {
   "cell_type": "markdown",
   "metadata": {
    "application/vnd.databricks.v1+cell": {
     "cellMetadata": {},
     "inputWidgets": {},
     "nuid": "baf450ab-9234-46d4-b0af-04a27eb8914d",
     "showTitle": false,
     "title": ""
    }
   },
   "source": [
    "#### LIMPEZA E TRANSFORMAÇÃO DA BASE DE DADOS"
   ]
  },
  {
   "cell_type": "code",
   "execution_count": 0,
   "metadata": {
    "application/vnd.databricks.v1+cell": {
     "cellMetadata": {
      "byteLimit": 2048000,
      "rowLimit": 10000
     },
     "inputWidgets": {},
     "nuid": "09b18a23-00f8-4817-a03e-34accbf352d1",
     "showTitle": false,
     "title": ""
    }
   },
   "outputs": [
    {
     "output_type": "stream",
     "name": "stdout",
     "output_type": "stream",
     "text": [
      "+---+----+-----+---+--------------+-----+-----------+\n| UF|Sexo|Idade|Cor|Anos de Estudo|Renda|     Altura|\n+---+----+-----+---+--------------+-----+-----------+\n| 11|   0|   53|  8|            16| 7000|1.673665133|\n| 11|   0|   69|  8|             1| 3030|1.746351196|\n| 11|   1|   52|  2|             6| 1200|1.736442076|\n| 11|   0|   57|  2|            12| 2000|1.715137632|\n| 11|   0|   23|  8|            12|  800|1.603807616|\n| 11|   0|   34|  2|            16| 6000|1.711825037|\n| 11|   0|   57|  8|            12| 3150|1.570078218|\n| 11|   1|   34|  8|            12|  790|1.637905598|\n| 11|   0|   45|  2|            12| 2000|1.780450392|\n| 11|   1|   62|  8|            12| 1150| 1.76597309|\n| 11|   0|   46|  2|             6| 3500|1.783157945|\n| 11|   1|   43|  8|            10| 1050|1.789011804|\n| 11|   1|   35|  8|            15|  880|1.760443822|\n| 11|   1|   23|  2|            12| 1150|1.739789827|\n| 11|   0|   38|  8|            12| 2000|1.750826666|\n| 11|   1|   46|  8|            12| 3000|1.787003282|\n| 11|   1|   50|  4|            14| 1800|1.780328883|\n| 11|   1|   47|  8|             9|  150|1.690630954|\n| 11|   1|   60|  8|            12| 1700|1.608495442|\n| 11|   1|   49|  8|             6| 2500|1.712911548|\n+---+----+-----+---+--------------+-----+-----------+\nonly showing top 20 rows\n\n"
     ]
    }
   ],
   "source": [
    "# Limpeza de dados: Remoção de nulos e duplicatas\n",
    "df_cleaned = df.dropna().dropDuplicates()\n",
    "\n",
    "# Criação da tabela temporária\n",
    "df_cleaned.createOrReplaceTempView(\"census_data\")\n",
    "\n",
    "# Vamos supor que queremos analisar a coluna 'Renda'\n",
    "df_transformed = df_cleaned.withColumn(\"Renda\", col(\"Renda\").cast(\"integer\"))\n",
    "\n",
    "# Exibir as primeiras linhas do DataFrame transformado\n",
    "df_transformed.show()\n"
   ]
  },
  {
   "cell_type": "markdown",
   "metadata": {
    "application/vnd.databricks.v1+cell": {
     "cellMetadata": {},
     "inputWidgets": {},
     "nuid": "e3170670-56d5-441a-8c9a-9815177ad21e",
     "showTitle": false,
     "title": ""
    }
   },
   "source": [
    "#### CARREGAMENTO DOS DADOS EM UM DATA WAREHOUSE"
   ]
  },
  {
   "cell_type": "code",
   "execution_count": 0,
   "metadata": {
    "application/vnd.databricks.v1+cell": {
     "cellMetadata": {
      "byteLimit": 2048000,
      "rowLimit": 10000
     },
     "inputWidgets": {},
     "nuid": "850e47ae-dea1-47ba-872d-6eb43e5f2c5b",
     "showTitle": false,
     "title": ""
    }
   },
   "outputs": [],
   "source": [
    "# Carregar os dados transformados em um Data Warehouse na nuvem\n",
    "df_transformed.write.format(\"parquet\") \\\n",
    "    .mode(\"overwrite\") \\\n",
    "    .save(\"dbfs:/path/to/transformed-data\")\n"
   ]
  },
  {
   "cell_type": "markdown",
   "metadata": {
    "application/vnd.databricks.v1+cell": {
     "cellMetadata": {},
     "inputWidgets": {},
     "nuid": "aaad9541-f52e-47e2-a595-27b1386bd6aa",
     "showTitle": false,
     "title": ""
    }
   },
   "source": [
    "#### ANÁLISE DOS DADOS\n",
    "\n",
    "A análise dos dados ocorre através de consultas SQL."
   ]
  },
  {
   "cell_type": "code",
   "execution_count": 0,
   "metadata": {
    "application/vnd.databricks.v1+cell": {
     "cellMetadata": {
      "byteLimit": 2048000,
      "rowLimit": 10000
     },
     "inputWidgets": {},
     "nuid": "53f2f296-5771-43c6-a55d-69d0834170af",
     "showTitle": false,
     "title": ""
    }
   },
   "outputs": [
    {
     "output_type": "stream",
     "name": "stdout",
     "output_type": "stream",
     "text": [
      "+---+------------------+\n| UF|         avg_renda|\n+---+------------------+\n| 53| 4241.954722492697|\n| 35|2638.1049859550562|\n| 33|2496.4031677465805|\n| 41| 2493.870752984389|\n| 42| 2470.854945054945|\n| 43|2315.1583359696297|\n| 50|2262.6041666666665|\n| 51| 2130.652777777778|\n| 31|2056.4320843091336|\n| 32|2026.3838517538054|\n| 52| 1994.580793559517|\n| 16|    1861.353515625|\n| 11| 1789.761223162004|\n| 14| 1783.588888888889|\n| 17|1771.0949464012251|\n| 26|1527.0793193717277|\n| 12|1506.0917822838846|\n| 13|1445.1300997280146|\n| 29|1429.6450935805492|\n| 15|1399.0768712070128|\n+---+------------------+\nonly showing top 20 rows\n\n"
     ]
    }
   ],
   "source": [
    "# Análise de dados com SQL\n",
    "\n",
    "# Exemplo de consulta: Distribuição de renda por estado (UF)\n",
    "renda_distribution = spark.sql(\"\"\"\n",
    "    SELECT UF, AVG(Renda) as avg_renda\n",
    "    FROM census_data\n",
    "    GROUP BY UF\n",
    "    ORDER BY avg_renda DESC\n",
    "\"\"\")\n",
    "\n",
    "# Exibição dos resultados\n",
    "renda_distribution.show()\n"
   ]
  },
  {
   "cell_type": "code",
   "execution_count": 0,
   "metadata": {
    "application/vnd.databricks.v1+cell": {
     "cellMetadata": {
      "byteLimit": 2048000,
      "implicitDf": true,
      "rowLimit": 10000
     },
     "inputWidgets": {},
     "nuid": "e5eecda4-64a6-408f-9994-d073f3c8e8a0",
     "showTitle": false,
     "title": ""
    }
   },
   "outputs": [
    {
     "output_type": "stream",
     "name": "stdout",
     "output_type": "stream",
     "text": [
      "+---+----------+\n| UF|population|\n+---+----------+\n| 11|      1537|\n| 12|       937|\n| 13|      2206|\n| 14|       540|\n| 15|      4449|\n| 16|       512|\n| 17|      1306|\n| 21|      1787|\n| 22|      1211|\n| 23|      3359|\n| 24|       973|\n| 25|      1274|\n| 26|      3820|\n| 27|       903|\n| 28|      1287|\n| 29|      5717|\n| 31|      7686|\n| 32|      1511|\n| 33|      5556|\n| 35|      8544|\n+---+----------+\nonly showing top 20 rows\n\n"
     ]
    }
   ],
   "source": [
    "# Distribuição populacional por estado\n",
    "populacao_estado = spark.sql(\"\"\"\n",
    "    SELECT UF, COUNT(*) as population\n",
    "    FROM census_data\n",
    "    GROUP BY UF\n",
    "    ORDER BY UF\n",
    "\"\"\")\n",
    "\n",
    "# Exibição da distribuição da população por estado\n",
    "populacao_estado.show()"
   ]
  },
  {
   "cell_type": "code",
   "execution_count": 0,
   "metadata": {
    "application/vnd.databricks.v1+cell": {
     "cellMetadata": {
      "byteLimit": 2048000,
      "rowLimit": 10000
     },
     "inputWidgets": {},
     "nuid": "bd4a7099-0cef-4a3b-bbe9-346e58e06c06",
     "showTitle": false,
     "title": ""
    }
   },
   "outputs": [
    {
     "output_type": "stream",
     "name": "stdout",
     "output_type": "stream",
     "text": [
      "+---------+----------+\n|age_group|population|\n+---------+----------+\n|     0-14|         2|\n|    15-24|      3340|\n|    25-34|     15870|\n|    35-44|     21505|\n|    45-54|     19920|\n|    55-64|     11881|\n|      65+|      4322|\n+---------+----------+\n\n"
     ]
    }
   ],
   "source": [
    "# Composição etária da população\n",
    "distribuicao_idade = spark.sql(\"\"\"\n",
    "    SELECT CASE \n",
    "             WHEN Idade BETWEEN 0 AND 14 THEN '0-14'\n",
    "             WHEN Idade BETWEEN 15 AND 24 THEN '15-24'\n",
    "             WHEN Idade BETWEEN 25 AND 34 THEN '25-34'\n",
    "             WHEN Idade BETWEEN 35 AND 44 THEN '35-44'\n",
    "             WHEN Idade BETWEEN 45 AND 54 THEN '45-54'\n",
    "             WHEN Idade BETWEEN 55 AND 64 THEN '55-64'\n",
    "             ELSE '65+' \n",
    "           END as age_group,\n",
    "           COUNT(*) as population\n",
    "    FROM census_data\n",
    "    GROUP BY age_group\n",
    "    ORDER BY age_group\n",
    "\"\"\")\n",
    "\n",
    "# \n",
    "distribuicao_idade.show()"
   ]
  },
  {
   "cell_type": "code",
   "execution_count": 0,
   "metadata": {
    "application/vnd.databricks.v1+cell": {
     "cellMetadata": {
      "byteLimit": 2048000,
      "rowLimit": 10000
     },
     "inputWidgets": {},
     "nuid": "7a26a2c9-2fc5-4592-b3f1-c33ec44a4486",
     "showTitle": false,
     "title": ""
    }
   },
   "outputs": [
    {
     "output_type": "stream",
     "name": "stdout",
     "output_type": "stream",
     "text": [
      "+---+-------------+----------------------+\n| UF|literacy_rate|avg_years_of_education|\n+---+-------------+----------------------+\n| 11|          1.0|     8.811971372804164|\n| 12|          1.0|     8.398078975453576|\n| 13|          1.0|     9.361740707162285|\n| 14|          1.0|     9.916666666666666|\n| 15|          1.0|     8.672285906945381|\n| 16|          1.0|           10.05078125|\n| 17|          1.0|     9.027565084226646|\n| 21|          1.0|     7.518746502518187|\n| 22|          1.0|     7.014037985136251|\n| 23|          1.0|     8.665078892527537|\n| 24|          1.0|     8.823227132579651|\n| 25|          1.0|     8.165620094191523|\n| 26|          1.0|     9.214921465968587|\n| 27|          1.0|     7.838316722037653|\n| 28|          1.0|     7.337995337995338|\n| 29|          1.0|     8.725730278117894|\n| 31|          1.0|     9.129846474108769|\n| 32|          1.0|     9.466578424884183|\n| 33|          1.0|    10.547516198704104|\n| 35|          1.0|    10.639044943820224|\n+---+-------------+----------------------+\nonly showing top 20 rows\n\n"
     ]
    }
   ],
   "source": [
    "# Taxas de alfabetização e escolaridade\n",
    "spark.sql(\"\"\"\n",
    "    SELECT UF, \n",
    "           AVG(CASE WHEN `Anos de Estudo` >= 1 THEN 1 ELSE 0 END) as literacy_rate,\n",
    "           AVG(`Anos de Estudo`) as avg_years_of_education\n",
    "    FROM census_data\n",
    "    GROUP BY UF\n",
    "    ORDER BY UF\n",
    "\"\"\").show()\n",
    "\n"
   ]
  },
  {
   "cell_type": "code",
   "execution_count": 0,
   "metadata": {
    "application/vnd.databricks.v1+cell": {
     "cellMetadata": {
      "byteLimit": 2048000,
      "rowLimit": 10000
     },
     "inputWidgets": {},
     "nuid": "e5052a78-f09a-4cea-ba1d-43bdc369ab9c",
     "showTitle": false,
     "title": ""
    }
   },
   "outputs": [
    {
     "output_type": "stream",
     "name": "stdout",
     "output_type": "stream",
     "text": [
      "+---+-------------+------------------+------------------+\n| UF|median_income|        avg_income|     income_stddev|\n+---+-------------+------------------+------------------+\n| 11|         1200| 1789.761223162004| 2406.161161153445|\n| 12|          900|1506.0917822838846|2276.2334150835873|\n| 13|          900|1445.1300997280146|1757.9355914283663|\n| 14|         1000| 1783.588888888889|2079.6592381481846|\n| 15|          850|1399.0768712070128|2053.7795545208614|\n| 16|         1200|    1861.353515625|2020.6886316340306|\n| 17|         1000|1771.0949464012251| 2934.590740977675|\n| 21|          700|1019.4320089535535| 1887.816904937352|\n| 22|          750|  1074.55078447564|2373.3557261812466|\n| 23|          789|1255.4036915748734|1821.9635356536114|\n| 24|          800|  1344.72147995889|1651.8055003631348|\n| 25|          788| 1293.370486656201|1950.2724310934977|\n| 26|          900|1527.0793193717277|  2389.62249744054|\n| 27|          788|1144.5526024363235| 1237.856196693837|\n| 28|          788| 1109.111111111111| 1478.997877781244|\n| 29|          800|1429.6450935805492| 3507.917248173135|\n| 31|         1200|2056.4320843091336|  3584.72154662321|\n| 32|         1274|2026.3838517538054|3513.8468679640346|\n| 33|         1400|2496.4031677465805| 5214.583518434616|\n| 35|         1600|2638.1049859550562|3503.7773662491936|\n+---+-------------+------------------+------------------+\nonly showing top 20 rows\n\n"
     ]
    }
   ],
   "source": [
    "# Distribuição de renda da população\n",
    "spark.sql(\"\"\"\n",
    "    SELECT UF,\n",
    "           PERCENTILE_APPROX(Renda, 0.5) as median_income,\n",
    "           AVG(Renda) as avg_income,\n",
    "           STDDEV(Renda) as income_stddev\n",
    "    FROM census_data\n",
    "    GROUP BY UF\n",
    "    ORDER BY UF\n",
    "\"\"\").show()\n"
   ]
  },
  {
   "cell_type": "markdown",
   "metadata": {
    "application/vnd.databricks.v1+cell": {
     "cellMetadata": {},
     "inputWidgets": {},
     "nuid": "40ffe3f8-a63b-43bf-9f7d-7244bbfb8ba9",
     "showTitle": false,
     "title": ""
    }
   },
   "source": [
    "#### CONCLUSÃO\n",
    "Este pipeline demonstra a capacidade de manipular, limpar, modelar e analisar grandes conjuntos de dados usando PySpark no Databricks, e serve como um exemplo robusto de como estruturar e documentar um projeto de análise de dados de ponta a ponta. Essas consultas SQL permitirão que você responda às perguntas sobre a distribuição populacional, composição etária, taxas de alfabetização e escolaridade, e distribuição de renda da população com base nos dados disponíveis."
   ]
  }
 ],
 "metadata": {
  "application/vnd.databricks.v1+notebook": {
   "dashboards": [],
   "environmentMetadata": null,
   "language": "python",
   "notebookMetadata": {
    "mostRecentlyExecutedCommandWithImplicitDF": {
     "commandId": -1,
     "dataframes": [
      "_sqldf"
     ]
    },
    "pythonIndentUnit": 4
   },
   "notebookName": "mvp_sprint_2_code",
   "widgets": {}
  }
 },
 "nbformat": 4,
 "nbformat_minor": 0
}
